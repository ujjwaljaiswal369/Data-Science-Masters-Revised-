{
 "cells": [
  {
   "cell_type": "markdown",
   "id": "3389b4bc-7947-425d-9c3c-919bea7c89e3",
   "metadata": {},
   "source": [
    " ## Python Pandas Working With HTML\n",
    "- In this Part we are going to learn about\n",
    "\n",
    "1. read HTML(read_html)\n",
    "2. To HTML(to_html)"
   ]
  },
  {
   "cell_type": "code",
   "execution_count": 1,
   "id": "2c2bdb55-c75e-456b-8ef3-ef9424326a22",
   "metadata": {},
   "outputs": [],
   "source": [
    "## for fixing ssl verification problem\n",
    "#import ssl\n",
    "#import certifi\n",
    "\n",
    "#ssl._create_default_https_context = lambda: ssl.create_default_context(cafile=certifi.where())\n"
   ]
  },
  {
   "cell_type": "code",
   "execution_count": 2,
   "id": "123c0220-eed6-47c6-befd-c7f9da5b6060",
   "metadata": {},
   "outputs": [],
   "source": [
    "import requests\n",
    "\n",
    "url = 'https://en.wikipedia.org/wiki/Mobile_country_code'\n",
    "headers = {'User-agent' : 'Mozilla/5.0'}\n",
    "\n",
    "response = requests.get(url,headers=headers)\n",
    "response.raise_for_status()"
   ]
  },
  {
   "cell_type": "code",
   "execution_count": 3,
   "id": "b4a87f53-a5de-4ecf-95c9-60061258442c",
   "metadata": {},
   "outputs": [],
   "source": [
    "import pandas as pd"
   ]
  },
  {
   "cell_type": "code",
   "execution_count": 4,
   "id": "d2d9e2a7-065c-436e-a384-88260d3e37d8",
   "metadata": {},
   "outputs": [
    {
     "name": "stderr",
     "output_type": "stream",
     "text": [
      "C:\\Users\\Home\\AppData\\Local\\Temp\\ipykernel_7256\\3856127478.py:1: FutureWarning: Passing literal html to 'read_html' is deprecated and will be removed in a future version. To read from a literal string, wrap it in a 'StringIO' object.\n",
      "  html=pd.read_html(response.text)\n"
     ]
    }
   ],
   "source": [
    "html=pd.read_html(response.text)"
   ]
  },
  {
   "cell_type": "code",
   "execution_count": 5,
   "id": "ac347232-48b3-491f-a7f1-ab6009d0a7cd",
   "metadata": {},
   "outputs": [
    {
     "data": {
      "text/plain": [
       "5"
      ]
     },
     "execution_count": 5,
     "metadata": {},
     "output_type": "execute_result"
    }
   ],
   "source": [
    "len(html)"
   ]
  },
  {
   "cell_type": "code",
   "execution_count": 6,
   "id": "0c9e573f-0bd1-43e8-a01a-69d69b14b1ae",
   "metadata": {},
   "outputs": [
    {
     "data": {
      "text/plain": [
       "list"
      ]
     },
     "execution_count": 6,
     "metadata": {},
     "output_type": "execute_result"
    }
   ],
   "source": [
    "type(html)"
   ]
  },
  {
   "cell_type": "code",
   "execution_count": 7,
   "id": "a908ad99-e7b7-44a7-b57e-72212e5eca74",
   "metadata": {
    "scrolled": true
   },
   "outputs": [
    {
     "data": {
      "text/html": [
       "<div>\n",
       "<style scoped>\n",
       "    .dataframe tbody tr th:only-of-type {\n",
       "        vertical-align: middle;\n",
       "    }\n",
       "\n",
       "    .dataframe tbody tr th {\n",
       "        vertical-align: top;\n",
       "    }\n",
       "\n",
       "    .dataframe thead th {\n",
       "        text-align: right;\n",
       "    }\n",
       "</style>\n",
       "<table border=\"1\" class=\"dataframe\">\n",
       "  <thead>\n",
       "    <tr style=\"text-align: right;\">\n",
       "      <th></th>\n",
       "      <th>Mobile country code</th>\n",
       "      <th>Country</th>\n",
       "      <th>ISO 3166</th>\n",
       "      <th>Mobile network codes</th>\n",
       "      <th>National MNC authority</th>\n",
       "      <th>Remarks</th>\n",
       "    </tr>\n",
       "  </thead>\n",
       "  <tbody>\n",
       "    <tr>\n",
       "      <th>0</th>\n",
       "      <td>289</td>\n",
       "      <td>A Abkhazia</td>\n",
       "      <td>GE-AB</td>\n",
       "      <td>List of mobile network codes in Abkhazia</td>\n",
       "      <td>NaN</td>\n",
       "      <td>MCC is not listed by ITU</td>\n",
       "    </tr>\n",
       "    <tr>\n",
       "      <th>1</th>\n",
       "      <td>412</td>\n",
       "      <td>Afghanistan</td>\n",
       "      <td>AF</td>\n",
       "      <td>List of mobile network codes in Afghanistan</td>\n",
       "      <td>NaN</td>\n",
       "      <td>NaN</td>\n",
       "    </tr>\n",
       "    <tr>\n",
       "      <th>2</th>\n",
       "      <td>276</td>\n",
       "      <td>Albania</td>\n",
       "      <td>AL</td>\n",
       "      <td>List of mobile network codes in Albania</td>\n",
       "      <td>NaN</td>\n",
       "      <td>NaN</td>\n",
       "    </tr>\n",
       "    <tr>\n",
       "      <th>3</th>\n",
       "      <td>603</td>\n",
       "      <td>Algeria</td>\n",
       "      <td>DZ</td>\n",
       "      <td>List of mobile network codes in Algeria</td>\n",
       "      <td>NaN</td>\n",
       "      <td>NaN</td>\n",
       "    </tr>\n",
       "    <tr>\n",
       "      <th>4</th>\n",
       "      <td>544</td>\n",
       "      <td>American Samoa (United States of America)</td>\n",
       "      <td>AS</td>\n",
       "      <td>List of mobile network codes in American Samoa</td>\n",
       "      <td>NaN</td>\n",
       "      <td>NaN</td>\n",
       "    </tr>\n",
       "    <tr>\n",
       "      <th>...</th>\n",
       "      <td>...</td>\n",
       "      <td>...</td>\n",
       "      <td>...</td>\n",
       "      <td>...</td>\n",
       "      <td>...</td>\n",
       "      <td>...</td>\n",
       "    </tr>\n",
       "    <tr>\n",
       "      <th>247</th>\n",
       "      <td>452</td>\n",
       "      <td>Vietnam</td>\n",
       "      <td>VN</td>\n",
       "      <td>List of mobile network codes in the Vietnam</td>\n",
       "      <td>NaN</td>\n",
       "      <td>NaN</td>\n",
       "    </tr>\n",
       "    <tr>\n",
       "      <th>248</th>\n",
       "      <td>543</td>\n",
       "      <td>W Wallis and Futuna</td>\n",
       "      <td>WF</td>\n",
       "      <td>List of mobile network codes in Wallis and Futuna</td>\n",
       "      <td>NaN</td>\n",
       "      <td>NaN</td>\n",
       "    </tr>\n",
       "    <tr>\n",
       "      <th>249</th>\n",
       "      <td>421</td>\n",
       "      <td>Y Yemen</td>\n",
       "      <td>YE</td>\n",
       "      <td>List of mobile network codes in the Yemen</td>\n",
       "      <td>NaN</td>\n",
       "      <td>NaN</td>\n",
       "    </tr>\n",
       "    <tr>\n",
       "      <th>250</th>\n",
       "      <td>645</td>\n",
       "      <td>Z Zambia</td>\n",
       "      <td>ZM</td>\n",
       "      <td>List of mobile network codes in Zambia</td>\n",
       "      <td>NaN</td>\n",
       "      <td>NaN</td>\n",
       "    </tr>\n",
       "    <tr>\n",
       "      <th>251</th>\n",
       "      <td>648</td>\n",
       "      <td>Zimbabwe</td>\n",
       "      <td>ZW</td>\n",
       "      <td>List of mobile network codes in Zimbabwe</td>\n",
       "      <td>NaN</td>\n",
       "      <td>NaN</td>\n",
       "    </tr>\n",
       "  </tbody>\n",
       "</table>\n",
       "<p>252 rows × 6 columns</p>\n",
       "</div>"
      ],
      "text/plain": [
       "     Mobile country code                                    Country ISO 3166  \\\n",
       "0                    289                                 A Abkhazia    GE-AB   \n",
       "1                    412                                Afghanistan       AF   \n",
       "2                    276                                    Albania       AL   \n",
       "3                    603                                    Algeria       DZ   \n",
       "4                    544  American Samoa (United States of America)       AS   \n",
       "..                   ...                                        ...      ...   \n",
       "247                  452                                    Vietnam       VN   \n",
       "248                  543                        W Wallis and Futuna       WF   \n",
       "249                  421                                    Y Yemen       YE   \n",
       "250                  645                                   Z Zambia       ZM   \n",
       "251                  648                                   Zimbabwe       ZW   \n",
       "\n",
       "                                  Mobile network codes National MNC authority  \\\n",
       "0             List of mobile network codes in Abkhazia                    NaN   \n",
       "1          List of mobile network codes in Afghanistan                    NaN   \n",
       "2              List of mobile network codes in Albania                    NaN   \n",
       "3              List of mobile network codes in Algeria                    NaN   \n",
       "4       List of mobile network codes in American Samoa                    NaN   \n",
       "..                                                 ...                    ...   \n",
       "247        List of mobile network codes in the Vietnam                    NaN   \n",
       "248  List of mobile network codes in Wallis and Futuna                    NaN   \n",
       "249          List of mobile network codes in the Yemen                    NaN   \n",
       "250             List of mobile network codes in Zambia                    NaN   \n",
       "251           List of mobile network codes in Zimbabwe                    NaN   \n",
       "\n",
       "                      Remarks  \n",
       "0    MCC is not listed by ITU  \n",
       "1                         NaN  \n",
       "2                         NaN  \n",
       "3                         NaN  \n",
       "4                         NaN  \n",
       "..                        ...  \n",
       "247                       NaN  \n",
       "248                       NaN  \n",
       "249                       NaN  \n",
       "250                       NaN  \n",
       "251                       NaN  \n",
       "\n",
       "[252 rows x 6 columns]"
      ]
     },
     "execution_count": 7,
     "metadata": {},
     "output_type": "execute_result"
    }
   ],
   "source": [
    "html[1]"
   ]
  },
  {
   "cell_type": "code",
   "execution_count": 8,
   "id": "3727890d-b098-496a-b6a1-09837a1218c9",
   "metadata": {},
   "outputs": [
    {
     "name": "stderr",
     "output_type": "stream",
     "text": [
      "C:\\Users\\Home\\AppData\\Local\\Temp\\ipykernel_7256\\2490330685.py:1: FutureWarning: Passing literal html to 'read_html' is deprecated and will be removed in a future version. To read from a literal string, wrap it in a 'StringIO' object.\n",
      "  html=pd.read_html(response.text, match='MCC')\n"
     ]
    }
   ],
   "source": [
    "html=pd.read_html(response.text, match='MCC')"
   ]
  },
  {
   "cell_type": "code",
   "execution_count": 9,
   "id": "b803bcba-b3a1-42ce-8b45-75a23330a9e8",
   "metadata": {
    "scrolled": true
   },
   "outputs": [
    {
     "data": {
      "text/plain": [
       "[   MCC  MNC Brand      Operator       Status Bands (MHz)  \\\n",
       " 0    1    1  TEST  Test network  Operational         any   \n",
       " 1    1    1  TEST  Test network  Operational         any   \n",
       " 2  999   99   NaN  Internal use  Operational         any   \n",
       " 3  999  999   NaN  Internal use  Operational         any   \n",
       " \n",
       "                               References and notes  \n",
       " 0                                              NaN  \n",
       " 1                                              NaN  \n",
       " 2  Internal use in private networks, no roaming[6]  \n",
       " 3  Internal use in private networks, no roaming[6]  ,\n",
       "      Mobile country code                                    Country ISO 3166  \\\n",
       " 0                    289                                 A Abkhazia    GE-AB   \n",
       " 1                    412                                Afghanistan       AF   \n",
       " 2                    276                                    Albania       AL   \n",
       " 3                    603                                    Algeria       DZ   \n",
       " 4                    544  American Samoa (United States of America)       AS   \n",
       " ..                   ...                                        ...      ...   \n",
       " 247                  452                                    Vietnam       VN   \n",
       " 248                  543                        W Wallis and Futuna       WF   \n",
       " 249                  421                                    Y Yemen       YE   \n",
       " 250                  645                                   Z Zambia       ZM   \n",
       " 251                  648                                   Zimbabwe       ZW   \n",
       " \n",
       "                                   Mobile network codes National MNC authority  \\\n",
       " 0             List of mobile network codes in Abkhazia                    NaN   \n",
       " 1          List of mobile network codes in Afghanistan                    NaN   \n",
       " 2              List of mobile network codes in Albania                    NaN   \n",
       " 3              List of mobile network codes in Algeria                    NaN   \n",
       " 4       List of mobile network codes in American Samoa                    NaN   \n",
       " ..                                                 ...                    ...   \n",
       " 247        List of mobile network codes in the Vietnam                    NaN   \n",
       " 248  List of mobile network codes in Wallis and Futuna                    NaN   \n",
       " 249          List of mobile network codes in the Yemen                    NaN   \n",
       " 250             List of mobile network codes in Zambia                    NaN   \n",
       " 251           List of mobile network codes in Zimbabwe                    NaN   \n",
       " \n",
       "                       Remarks  \n",
       " 0    MCC is not listed by ITU  \n",
       " 1                         NaN  \n",
       " 2                         NaN  \n",
       " 3                         NaN  \n",
       " 4                         NaN  \n",
       " ..                        ...  \n",
       " 247                       NaN  \n",
       " 248                       NaN  \n",
       " 249                       NaN  \n",
       " 250                       NaN  \n",
       " 251                       NaN  \n",
       " \n",
       " [252 rows x 6 columns],\n",
       "      MCC  MNC     Brand                  Operator           Status  \\\n",
       " 0    901    1       NaN                   Webbing          Unknown   \n",
       " 1    901    2       NaN            GlobalmatiX AG          Unknown   \n",
       " 2    901    3   Iridium                       NaN      Operational   \n",
       " 3    901    4       NaN  BBIX Singapore Pte. Ltd.          Unknown   \n",
       " 4    901    5       NaN      Thuraya RMSS Network      Operational   \n",
       " ..   ...  ...       ...                       ...              ...   \n",
       " 99   902    1       NaN        MulteFire Alliance      Operational   \n",
       " 100  991    1       NaN    World's Global Telecom  Not operational   \n",
       " 101  991    2  5G Croco               Orange S.A.  Not operational   \n",
       " 102  991    3       NaN                 Halys SAS  Not operational   \n",
       " 103  991    4       NaN              E-Space Inc.          Unknown   \n",
       " \n",
       "     Bands (MHz)                               References and notes  \n",
       " 0          MVNO            Former ICO Satellite Management[51][52]  \n",
       " 1       Unknown  Former Sense Communications International; veh...  \n",
       " 2     Satellite                                                NaN  \n",
       " 3       Unknown                              Former Globalstar[54]  \n",
       " 4     Satellite                                                NaN  \n",
       " ..          ...                                                ...  \n",
       " 99          LTE                                           [6][128]  \n",
       " 100     Unknown  temporarily assigned until 15 January 2021[105...  \n",
       " 101          5G  temporarily assigned until 6 August 2022[130][...  \n",
       " 102     Unknown  temporary assignment for trial until 5 April 2...  \n",
       " 103   Satellite  temporary assignment for trial until 17 Oct 20...  \n",
       " \n",
       " [104 rows x 7 columns],\n",
       "    MCC  MNC     Brand                 Operator       Status Bands (MHz)  \\\n",
       " 0  995    1  FonePlus  Sure (Diego Garcia) Ltd  Operational     GSM 900   \n",
       " \n",
       "                                 References and notes  \n",
       " 0  There appears to be no officially assigned MCC...  ]"
      ]
     },
     "execution_count": 9,
     "metadata": {},
     "output_type": "execute_result"
    }
   ],
   "source": [
    "html"
   ]
  },
  {
   "cell_type": "code",
   "execution_count": 11,
   "id": "66b61d37-2cc0-408f-a341-c6223de3d3a8",
   "metadata": {},
   "outputs": [
    {
     "data": {
      "text/plain": [
       "pandas.core.frame.DataFrame"
      ]
     },
     "execution_count": 11,
     "metadata": {},
     "output_type": "execute_result"
    }
   ],
   "source": [
    "type(html[0])"
   ]
  },
  {
   "cell_type": "code",
   "execution_count": 10,
   "id": "45cd55cb-f21a-4d64-96af-fc50c2e9bc3a",
   "metadata": {
    "scrolled": true
   },
   "outputs": [],
   "source": [
    "html[0].to_html('demo.html')"
   ]
  },
  {
   "cell_type": "markdown",
   "id": "dec2d966-eb7c-4db3-a12c-79d91ebb1296",
   "metadata": {},
   "source": [
    "---"
   ]
  },
  {
   "cell_type": "code",
   "execution_count": null,
   "id": "45d281ed-702f-4f71-81d9-ffb3b632a93f",
   "metadata": {},
   "outputs": [],
   "source": []
  },
  {
   "cell_type": "code",
   "execution_count": 12,
   "id": "fcb15e45-dacd-442d-9c82-1cb5dae617c9",
   "metadata": {},
   "outputs": [],
   "source": [
    "#PRACTICE"
   ]
  },
  {
   "cell_type": "code",
   "execution_count": 15,
   "id": "e2b892b6-8484-4eeb-ac67-b90fe9db3900",
   "metadata": {},
   "outputs": [],
   "source": [
    "import requests\n",
    "\n",
    "url = 'https://en.wikipedia.org/wiki/List_of_countries_and_dependencies_by_population'\n",
    "headers = {'User-Agent' : 'Mozilla/5.0'}\n",
    "\n",
    "response=requests.get(url, headers=headers)"
   ]
  },
  {
   "cell_type": "code",
   "execution_count": 18,
   "id": "074d6148-babd-4b76-8981-5fc8cefb7a33",
   "metadata": {},
   "outputs": [
    {
     "name": "stderr",
     "output_type": "stream",
     "text": [
      "C:\\Users\\Home\\AppData\\Local\\Temp\\ipykernel_7256\\110844441.py:1: FutureWarning: Passing literal html to 'read_html' is deprecated and will be removed in a future version. To read from a literal string, wrap it in a 'StringIO' object.\n",
      "  html_df=pd.read_html(response.text)\n"
     ]
    }
   ],
   "source": [
    "html_df=pd.read_html(response.text)"
   ]
  },
  {
   "cell_type": "code",
   "execution_count": 20,
   "id": "186e9773-0c4c-4f8a-bf89-ea7dc738c6de",
   "metadata": {},
   "outputs": [
    {
     "data": {
      "text/html": [
       "<div>\n",
       "<style scoped>\n",
       "    .dataframe tbody tr th:only-of-type {\n",
       "        vertical-align: middle;\n",
       "    }\n",
       "\n",
       "    .dataframe tbody tr th {\n",
       "        vertical-align: top;\n",
       "    }\n",
       "\n",
       "    .dataframe thead th {\n",
       "        text-align: right;\n",
       "    }\n",
       "</style>\n",
       "<table border=\"1\" class=\"dataframe\">\n",
       "  <thead>\n",
       "    <tr style=\"text-align: right;\">\n",
       "      <th></th>\n",
       "      <th>Location</th>\n",
       "      <th>Population</th>\n",
       "      <th>% of world</th>\n",
       "      <th>Date</th>\n",
       "      <th>Source (official or from the United Nations)</th>\n",
       "      <th>Notes</th>\n",
       "    </tr>\n",
       "  </thead>\n",
       "  <tbody>\n",
       "    <tr>\n",
       "      <th>0</th>\n",
       "      <td>World</td>\n",
       "      <td>8232000000</td>\n",
       "      <td>100%</td>\n",
       "      <td>13 Jun 2025</td>\n",
       "      <td>UN projection[1][3]</td>\n",
       "      <td>NaN</td>\n",
       "    </tr>\n",
       "    <tr>\n",
       "      <th>1</th>\n",
       "      <td>India</td>\n",
       "      <td>1417492000</td>\n",
       "      <td>17.3%</td>\n",
       "      <td>1 Jul 2025</td>\n",
       "      <td>Official projection[4]</td>\n",
       "      <td>[b]</td>\n",
       "    </tr>\n",
       "    <tr>\n",
       "      <th>2</th>\n",
       "      <td>China</td>\n",
       "      <td>1408280000</td>\n",
       "      <td>17.2%</td>\n",
       "      <td>31 Dec 2024</td>\n",
       "      <td>Official estimate[5]</td>\n",
       "      <td>[c]</td>\n",
       "    </tr>\n",
       "    <tr>\n",
       "      <th>3</th>\n",
       "      <td>United States</td>\n",
       "      <td>340110988</td>\n",
       "      <td>4.1%</td>\n",
       "      <td>1 Jul 2024</td>\n",
       "      <td>Official estimate[6]</td>\n",
       "      <td>[d]</td>\n",
       "    </tr>\n",
       "    <tr>\n",
       "      <th>4</th>\n",
       "      <td>Indonesia</td>\n",
       "      <td>284438782</td>\n",
       "      <td>3.5%</td>\n",
       "      <td>30 Jun 2025</td>\n",
       "      <td>National annual projection[7]</td>\n",
       "      <td>NaN</td>\n",
       "    </tr>\n",
       "    <tr>\n",
       "      <th>...</th>\n",
       "      <td>...</td>\n",
       "      <td>...</td>\n",
       "      <td>...</td>\n",
       "      <td>...</td>\n",
       "      <td>...</td>\n",
       "      <td>...</td>\n",
       "    </tr>\n",
       "    <tr>\n",
       "      <th>237</th>\n",
       "      <td>Niue (New Zealand)</td>\n",
       "      <td>1681</td>\n",
       "      <td>0%</td>\n",
       "      <td>11 Nov 2022</td>\n",
       "      <td>2022 Census[252]</td>\n",
       "      <td>NaN</td>\n",
       "    </tr>\n",
       "    <tr>\n",
       "      <th>238</th>\n",
       "      <td>Tokelau (New Zealand)</td>\n",
       "      <td>1647</td>\n",
       "      <td>0%</td>\n",
       "      <td>1 Jan 2019</td>\n",
       "      <td>2019 Census[253]</td>\n",
       "      <td>NaN</td>\n",
       "    </tr>\n",
       "    <tr>\n",
       "      <th>239</th>\n",
       "      <td>Vatican City</td>\n",
       "      <td>882</td>\n",
       "      <td>0%</td>\n",
       "      <td>31 Dec 2024</td>\n",
       "      <td>Official figure[254]</td>\n",
       "      <td>[ah]</td>\n",
       "    </tr>\n",
       "    <tr>\n",
       "      <th>240</th>\n",
       "      <td>Cocos (Keeling) Islands (Australia)</td>\n",
       "      <td>593</td>\n",
       "      <td>0%</td>\n",
       "      <td>30 Jun 2020</td>\n",
       "      <td>2021 Census[255]</td>\n",
       "      <td>NaN</td>\n",
       "    </tr>\n",
       "    <tr>\n",
       "      <th>241</th>\n",
       "      <td>Pitcairn Islands (UK)</td>\n",
       "      <td>35</td>\n",
       "      <td>0%</td>\n",
       "      <td>1 Jul 2023</td>\n",
       "      <td>Official estimate[256]</td>\n",
       "      <td>NaN</td>\n",
       "    </tr>\n",
       "  </tbody>\n",
       "</table>\n",
       "<p>242 rows × 6 columns</p>\n",
       "</div>"
      ],
      "text/plain": [
       "                                Location  Population % of world         Date  \\\n",
       "0                                  World  8232000000       100%  13 Jun 2025   \n",
       "1                                  India  1417492000      17.3%   1 Jul 2025   \n",
       "2                                  China  1408280000      17.2%  31 Dec 2024   \n",
       "3                          United States   340110988       4.1%   1 Jul 2024   \n",
       "4                              Indonesia   284438782       3.5%  30 Jun 2025   \n",
       "..                                   ...         ...        ...          ...   \n",
       "237                   Niue (New Zealand)        1681         0%  11 Nov 2022   \n",
       "238                Tokelau (New Zealand)        1647         0%   1 Jan 2019   \n",
       "239                         Vatican City         882         0%  31 Dec 2024   \n",
       "240  Cocos (Keeling) Islands (Australia)         593         0%  30 Jun 2020   \n",
       "241                Pitcairn Islands (UK)          35         0%   1 Jul 2023   \n",
       "\n",
       "    Source (official or from the United Nations) Notes  \n",
       "0                            UN projection[1][3]   NaN  \n",
       "1                         Official projection[4]   [b]  \n",
       "2                           Official estimate[5]   [c]  \n",
       "3                           Official estimate[6]   [d]  \n",
       "4                  National annual projection[7]   NaN  \n",
       "..                                           ...   ...  \n",
       "237                             2022 Census[252]   NaN  \n",
       "238                             2019 Census[253]   NaN  \n",
       "239                         Official figure[254]  [ah]  \n",
       "240                             2021 Census[255]   NaN  \n",
       "241                       Official estimate[256]   NaN  \n",
       "\n",
       "[242 rows x 6 columns]"
      ]
     },
     "execution_count": 20,
     "metadata": {},
     "output_type": "execute_result"
    }
   ],
   "source": [
    "html_df[0]"
   ]
  },
  {
   "cell_type": "code",
   "execution_count": 21,
   "id": "0c40483e-ce5b-4456-a6fc-fac708d82be7",
   "metadata": {},
   "outputs": [
    {
     "data": {
      "text/html": [
       "<div>\n",
       "<style scoped>\n",
       "    .dataframe tbody tr th:only-of-type {\n",
       "        vertical-align: middle;\n",
       "    }\n",
       "\n",
       "    .dataframe tbody tr th {\n",
       "        vertical-align: top;\n",
       "    }\n",
       "\n",
       "    .dataframe thead th {\n",
       "        text-align: right;\n",
       "    }\n",
       "</style>\n",
       "<table border=\"1\" class=\"dataframe\">\n",
       "  <thead>\n",
       "    <tr style=\"text-align: right;\">\n",
       "      <th></th>\n",
       "      <th>vteLists of countries by population statistics</th>\n",
       "      <th>vteLists of countries by population statistics.1</th>\n",
       "    </tr>\n",
       "  </thead>\n",
       "  <tbody>\n",
       "    <tr>\n",
       "      <th>0</th>\n",
       "      <td>Global</td>\n",
       "      <td>Current population United Nations Demographics...</td>\n",
       "    </tr>\n",
       "    <tr>\n",
       "      <th>1</th>\n",
       "      <td>Continents/subregions</td>\n",
       "      <td>Africa Antarctica Asia Europe North America Ca...</td>\n",
       "    </tr>\n",
       "    <tr>\n",
       "      <th>2</th>\n",
       "      <td>Intercontinental</td>\n",
       "      <td>Americas Arab world Commonwealth of Nations Eu...</td>\n",
       "    </tr>\n",
       "    <tr>\n",
       "      <th>3</th>\n",
       "      <td>Cities/urban areas</td>\n",
       "      <td>World cities National capitals Megacities Mega...</td>\n",
       "    </tr>\n",
       "    <tr>\n",
       "      <th>4</th>\n",
       "      <td>Past and future</td>\n",
       "      <td>Past and future population Estimates of histor...</td>\n",
       "    </tr>\n",
       "    <tr>\n",
       "      <th>5</th>\n",
       "      <td>Population density</td>\n",
       "      <td>Current density Past and future population den...</td>\n",
       "    </tr>\n",
       "    <tr>\n",
       "      <th>6</th>\n",
       "      <td>Growth indicators</td>\n",
       "      <td>Population growth rate Natural increase Net re...</td>\n",
       "    </tr>\n",
       "    <tr>\n",
       "      <th>7</th>\n",
       "      <td>Life expectancy</td>\n",
       "      <td>World Africa Asia Europe North America Oceania...</td>\n",
       "    </tr>\n",
       "    <tr>\n",
       "      <th>8</th>\n",
       "      <td>Other demographics</td>\n",
       "      <td>Age at childbearing Age at first marriage Age ...</td>\n",
       "    </tr>\n",
       "    <tr>\n",
       "      <th>9</th>\n",
       "      <td>Health</td>\n",
       "      <td>Antidepressant consumption Antiviral medicatio...</td>\n",
       "    </tr>\n",
       "    <tr>\n",
       "      <th>10</th>\n",
       "      <td>Education and innovation</td>\n",
       "      <td>Bloomberg Innovation Index Education Index Glo...</td>\n",
       "    </tr>\n",
       "    <tr>\n",
       "      <th>11</th>\n",
       "      <td>Economic</td>\n",
       "      <td>Access to financial services Development aid d...</td>\n",
       "    </tr>\n",
       "    <tr>\n",
       "      <th>12</th>\n",
       "      <td>List of international rankings Lists by country</td>\n",
       "      <td>List of international rankings Lists by country</td>\n",
       "    </tr>\n",
       "  </tbody>\n",
       "</table>\n",
       "</div>"
      ],
      "text/plain": [
       "     vteLists of countries by population statistics  \\\n",
       "0                                            Global   \n",
       "1                             Continents/subregions   \n",
       "2                                  Intercontinental   \n",
       "3                                Cities/urban areas   \n",
       "4                                   Past and future   \n",
       "5                                Population density   \n",
       "6                                 Growth indicators   \n",
       "7                                   Life expectancy   \n",
       "8                                Other demographics   \n",
       "9                                            Health   \n",
       "10                         Education and innovation   \n",
       "11                                         Economic   \n",
       "12  List of international rankings Lists by country   \n",
       "\n",
       "     vteLists of countries by population statistics.1  \n",
       "0   Current population United Nations Demographics...  \n",
       "1   Africa Antarctica Asia Europe North America Ca...  \n",
       "2   Americas Arab world Commonwealth of Nations Eu...  \n",
       "3   World cities National capitals Megacities Mega...  \n",
       "4   Past and future population Estimates of histor...  \n",
       "5   Current density Past and future population den...  \n",
       "6   Population growth rate Natural increase Net re...  \n",
       "7   World Africa Asia Europe North America Oceania...  \n",
       "8   Age at childbearing Age at first marriage Age ...  \n",
       "9   Antidepressant consumption Antiviral medicatio...  \n",
       "10  Bloomberg Innovation Index Education Index Glo...  \n",
       "11  Access to financial services Development aid d...  \n",
       "12    List of international rankings Lists by country  "
      ]
     },
     "execution_count": 21,
     "metadata": {},
     "output_type": "execute_result"
    }
   ],
   "source": [
    "html_df[1]"
   ]
  },
  {
   "cell_type": "code",
   "execution_count": 24,
   "id": "c7749609-a441-4475-8910-8e75e833d4a0",
   "metadata": {},
   "outputs": [
    {
     "data": {
      "text/html": [
       "<div>\n",
       "<style scoped>\n",
       "    .dataframe tbody tr th:only-of-type {\n",
       "        vertical-align: middle;\n",
       "    }\n",
       "\n",
       "    .dataframe tbody tr th {\n",
       "        vertical-align: top;\n",
       "    }\n",
       "\n",
       "    .dataframe thead th {\n",
       "        text-align: right;\n",
       "    }\n",
       "</style>\n",
       "<table border=\"1\" class=\"dataframe\">\n",
       "  <thead>\n",
       "    <tr style=\"text-align: right;\">\n",
       "      <th></th>\n",
       "      <th>vteWorld</th>\n",
       "      <th>vteWorld.1</th>\n",
       "    </tr>\n",
       "  </thead>\n",
       "  <tbody>\n",
       "    <tr>\n",
       "      <th>0</th>\n",
       "      <td>AfghanistanAlbaniaAlgeriaAndorraAngolaAntigua ...</td>\n",
       "      <td>AfghanistanAlbaniaAlgeriaAndorraAngolaAntigua ...</td>\n",
       "    </tr>\n",
       "  </tbody>\n",
       "</table>\n",
       "</div>"
      ],
      "text/plain": [
       "                                            vteWorld  \\\n",
       "0  AfghanistanAlbaniaAlgeriaAndorraAngolaAntigua ...   \n",
       "\n",
       "                                          vteWorld.1  \n",
       "0  AfghanistanAlbaniaAlgeriaAndorraAngolaAntigua ...  "
      ]
     },
     "execution_count": 24,
     "metadata": {},
     "output_type": "execute_result"
    }
   ],
   "source": [
    "df=html_df[2]\n",
    "df"
   ]
  },
  {
   "cell_type": "code",
   "execution_count": 25,
   "id": "c99df907-4135-482b-b992-0b1b821e438e",
   "metadata": {},
   "outputs": [
    {
     "data": {
      "text/plain": [
       "(1, 2)"
      ]
     },
     "execution_count": 25,
     "metadata": {},
     "output_type": "execute_result"
    }
   ],
   "source": [
    "df.shape"
   ]
  },
  {
   "cell_type": "code",
   "execution_count": 26,
   "id": "f9d141bb-7ef9-4532-aebd-731e706207fd",
   "metadata": {},
   "outputs": [],
   "source": [
    "df.to_csv('world.csv')"
   ]
  },
  {
   "cell_type": "code",
   "execution_count": null,
   "id": "99e78466-966b-4c94-b754-e5842bcda202",
   "metadata": {},
   "outputs": [],
   "source": []
  }
 ],
 "metadata": {
  "kernelspec": {
   "display_name": "Python 3 (ipykernel)",
   "language": "python",
   "name": "python3"
  },
  "language_info": {
   "codemirror_mode": {
    "name": "ipython",
    "version": 3
   },
   "file_extension": ".py",
   "mimetype": "text/x-python",
   "name": "python",
   "nbconvert_exporter": "python",
   "pygments_lexer": "ipython3",
   "version": "3.13.5"
  }
 },
 "nbformat": 4,
 "nbformat_minor": 5
}
