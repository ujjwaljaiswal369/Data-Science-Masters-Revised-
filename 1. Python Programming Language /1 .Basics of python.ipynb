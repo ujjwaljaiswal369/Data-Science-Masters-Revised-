{
 "cells": [
  {
   "cell_type": "markdown",
   "id": "9e194c2b-4c46-4966-85b5-d5408fcaa59d",
   "metadata": {},
   "source": [
    "## Tutorial-2 Basics of Python"
   ]
  },
  {
   "cell_type": "code",
   "execution_count": 2,
   "id": "bd564c7e-9bcf-4a4e-90d0-29deb5489695",
   "metadata": {},
   "outputs": [
    {
     "name": "stdout",
     "output_type": "stream",
     "text": [
      "Radhe Radhe\n",
      "Krishna Radhe\n"
     ]
    }
   ],
   "source": [
    "print('Radhe Radhe')\n",
    "print('Krishna Radhe')"
   ]
  },
  {
   "cell_type": "code",
   "execution_count": null,
   "id": "b4b2fdf4-39c3-42e9-8dea-f5fefb58fb66",
   "metadata": {},
   "outputs": [],
   "source": []
  },
  {
   "cell_type": "code",
   "execution_count": 3,
   "id": "4fbde970-4df0-4917-b4a9-638bf8d2577c",
   "metadata": {},
   "outputs": [
    {
     "name": "stdout",
     "output_type": "stream",
     "text": [
      "10\n"
     ]
    }
   ],
   "source": [
    "# variable declaration\n",
    "a=10\n",
    "print(a)"
   ]
  },
  {
   "cell_type": "code",
   "execution_count": 4,
   "id": "25d0fffb-e0bd-4a22-89d4-b69086c509d2",
   "metadata": {},
   "outputs": [
    {
     "data": {
      "text/plain": [
       "int"
      ]
     },
     "execution_count": 4,
     "metadata": {},
     "output_type": "execute_result"
    }
   ],
   "source": [
    "type(a)"
   ]
  },
  {
   "cell_type": "code",
   "execution_count": 5,
   "id": "0dc58b6c-5ea4-4eec-b45a-4a6cc3e54915",
   "metadata": {},
   "outputs": [
    {
     "data": {
      "text/plain": [
       "10"
      ]
     },
     "execution_count": 5,
     "metadata": {},
     "output_type": "execute_result"
    }
   ],
   "source": [
    "# Integer\n",
    "a%100"
   ]
  },
  {
   "cell_type": "code",
   "execution_count": 6,
   "id": "2e437c3a-b9dc-4aa8-909d-eed935b6c197",
   "metadata": {},
   "outputs": [
    {
     "data": {
      "text/plain": [
       "0"
      ]
     },
     "execution_count": 6,
     "metadata": {},
     "output_type": "execute_result"
    }
   ],
   "source": [
    "12%6"
   ]
  },
  {
   "cell_type": "code",
   "execution_count": 8,
   "id": "4a8d8ac8-7dd4-4507-8474-c9d3b3cb1c1f",
   "metadata": {},
   "outputs": [
    {
     "name": "stdout",
     "output_type": "stream",
     "text": [
      "a1 | b2 = 251\n"
     ]
    }
   ],
   "source": [
    "a1 = 123\n",
    "b2 = 234\n",
    "print('a1 | b2 =',a1 | b2)"
   ]
  },
  {
   "cell_type": "code",
   "execution_count": 9,
   "id": "792edd52-19cf-4a07-981c-cd17762db7ba",
   "metadata": {},
   "outputs": [],
   "source": [
    "#complex no.\n",
    "j = 2.0 + 4.5j"
   ]
  },
  {
   "cell_type": "code",
   "execution_count": 10,
   "id": "e2aec6c2-1061-485f-bd29-b381b9f33882",
   "metadata": {},
   "outputs": [
    {
     "name": "stdout",
     "output_type": "stream",
     "text": [
      "(2+4.5j)\n"
     ]
    }
   ],
   "source": [
    "print(j)"
   ]
  },
  {
   "cell_type": "code",
   "execution_count": 12,
   "id": "27f009e2-5355-482d-ac83-ad10079553d9",
   "metadata": {},
   "outputs": [
    {
     "name": "stdout",
     "output_type": "stream",
     "text": [
      "2.0 4.5\n"
     ]
    }
   ],
   "source": [
    "print(j.real,j.imag)"
   ]
  },
  {
   "cell_type": "code",
   "execution_count": 13,
   "id": "4acec279-396e-4614-9d72-e96701c769e8",
   "metadata": {},
   "outputs": [],
   "source": [
    "#dynamic typing\n",
    "a = 10\n",
    "a = 'krishna'"
   ]
  },
  {
   "cell_type": "code",
   "execution_count": 18,
   "id": "2ffc6176-8490-4f47-b181-251816abd9bd",
   "metadata": {},
   "outputs": [],
   "source": [
    "# strong typing\n",
    "a = 'krishna'\n",
    "b = 369\n",
    "c=str(b)"
   ]
  },
  {
   "cell_type": "code",
   "execution_count": 19,
   "id": "1f954425-3173-481e-b6c4-3eda95fb6b6d",
   "metadata": {},
   "outputs": [
    {
     "data": {
      "text/plain": [
       "str"
      ]
     },
     "execution_count": 19,
     "metadata": {},
     "output_type": "execute_result"
    }
   ],
   "source": [
    "type(c)"
   ]
  },
  {
   "cell_type": "code",
   "execution_count": 20,
   "id": "2d647d6c-7b92-44f6-9177-65df5acdea70",
   "metadata": {},
   "outputs": [
    {
     "data": {
      "text/plain": [
       "'krishna369'"
      ]
     },
     "execution_count": 20,
     "metadata": {},
     "output_type": "execute_result"
    }
   ],
   "source": [
    "a+c"
   ]
  },
  {
   "cell_type": "code",
   "execution_count": 21,
   "id": "0d501f32-8611-4123-875e-68506149f694",
   "metadata": {},
   "outputs": [],
   "source": [
    "# string formatting"
   ]
  },
  {
   "cell_type": "code",
   "execution_count": 22,
   "id": "97683ea7-f19d-4074-894a-28681e8bda3c",
   "metadata": {},
   "outputs": [
    {
     "name": "stdout",
     "output_type": "stream",
     "text": [
      "The Value is - 10\n"
     ]
    }
   ],
   "source": [
    "a = 10\n",
    "b = 'The Value is -'\n",
    "print(b,a)"
   ]
  },
  {
   "cell_type": "code",
   "execution_count": 26,
   "id": "abf12e54-f7c8-437b-b4cb-6b978c509a49",
   "metadata": {},
   "outputs": [],
   "source": [
    "name = 'KrishnaRadha'\n",
    "first_name = 'Krishna'\n",
    "Last_name = 'Radha'"
   ]
  },
  {
   "cell_type": "code",
   "execution_count": 27,
   "id": "70bd1af9-8a27-4fcc-b4f2-136630868dd0",
   "metadata": {},
   "outputs": [
    {
     "name": "stdout",
     "output_type": "stream",
     "text": [
      " The first name is Krishna and last name is Radha so it is KrishnaRadha.\n"
     ]
    }
   ],
   "source": [
    "print(' The first name is {a} and last name is {b} so it is {c}.'.format(a=first_name,b=Last_name,c=name))"
   ]
  },
  {
   "cell_type": "code",
   "execution_count": 30,
   "id": "bc575715-cc3f-4d29-af2e-3d58b141abed",
   "metadata": {},
   "outputs": [
    {
     "name": "stdin",
     "output_type": "stream",
     "text": [
      "Enter the number A 12\n",
      "Enter the number B 12\n"
     ]
    },
    {
     "name": "stdout",
     "output_type": "stream",
     "text": [
      "24\n"
     ]
    }
   ],
   "source": [
    "# input type\n",
    "a = input('Enter the number A')\n",
    "b = input('Enter the number B')\n",
    "print(int(a)+int(b))"
   ]
  },
  {
   "cell_type": "code",
   "execution_count": null,
   "id": "a87447fe-3297-49e0-8da6-078786673515",
   "metadata": {},
   "outputs": [],
   "source": []
  }
 ],
 "metadata": {
  "kernelspec": {
   "display_name": "Python 3 (ipykernel)",
   "language": "python",
   "name": "python3"
  },
  "language_info": {
   "codemirror_mode": {
    "name": "ipython",
    "version": 3
   },
   "file_extension": ".py",
   "mimetype": "text/x-python",
   "name": "python",
   "nbconvert_exporter": "python",
   "pygments_lexer": "ipython3",
   "version": "3.13.5"
  }
 },
 "nbformat": 4,
 "nbformat_minor": 5
}
