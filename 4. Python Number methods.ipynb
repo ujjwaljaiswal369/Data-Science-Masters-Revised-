{
 "cells": [
  {
   "cell_type": "markdown",
   "id": "57f1a222-e350-41f6-9caa-9c930fbd7320",
   "metadata": {},
   "source": [
    "# Python number methods"
   ]
  },
  {
   "cell_type": "markdown",
   "id": "b72ac34d-ff91-4055-b1b6-b7f0c56df265",
   "metadata": {},
   "source": [
    "## abs()\n",
    "`abs(x)` will return the absolute value of a number x which we pass in argument. The number x can be integer, float, complex,.."
   ]
  },
  {
   "cell_type": "code",
   "execution_count": 1,
   "id": "d70528ea-ce88-4531-b71c-36cef2179ed4",
   "metadata": {},
   "outputs": [
    {
     "data": {
      "text/plain": [
       "10"
      ]
     },
     "execution_count": 1,
     "metadata": {},
     "output_type": "execute_result"
    }
   ],
   "source": [
    "abs(10)"
   ]
  },
  {
   "cell_type": "code",
   "execution_count": 2,
   "id": "3d06ff81-2efe-4996-9106-c75367ebaedb",
   "metadata": {},
   "outputs": [
    {
     "data": {
      "text/plain": [
       "10.22"
      ]
     },
     "execution_count": 2,
     "metadata": {},
     "output_type": "execute_result"
    }
   ],
   "source": [
    "abs(10.22)"
   ]
  },
  {
   "cell_type": "code",
   "execution_count": 3,
   "id": "b52f4af2-66a2-4b98-9b20-e3d00961d7f6",
   "metadata": {},
   "outputs": [
    {
     "data": {
      "text/plain": [
       "20"
      ]
     },
     "execution_count": 3,
     "metadata": {},
     "output_type": "execute_result"
    }
   ],
   "source": [
    "abs(-20)"
   ]
  },
  {
   "cell_type": "code",
   "execution_count": 4,
   "id": "6599f313-d106-4133-95d5-ec68717e66c7",
   "metadata": {},
   "outputs": [
    {
     "data": {
      "text/plain": [
       "34.2"
      ]
     },
     "execution_count": 4,
     "metadata": {},
     "output_type": "execute_result"
    }
   ],
   "source": [
    "abs(34.20)"
   ]
  },
  {
   "cell_type": "code",
   "execution_count": 5,
   "id": "979feeb1-a995-4008-b3c8-c1322e86093e",
   "metadata": {},
   "outputs": [
    {
     "data": {
      "text/plain": [
       "55.2"
      ]
     },
     "execution_count": 5,
     "metadata": {},
     "output_type": "execute_result"
    }
   ],
   "source": [
    "abs(-55.20)"
   ]
  },
  {
   "cell_type": "markdown",
   "id": "09e28d82-cafb-4da8-b227-099b647c692a",
   "metadata": {},
   "source": [
    "## ceil()\n",
    "ceil(x) will return the ceiling value of a number x which we pass in argument. The ceiling value of a number x will be the smallest integer not less than x\n",
    "\n",
    "> **Note** :- This function will not be accessible directly using ceil() method. Math module will be required to access this method."
   ]
  },
  {
   "cell_type": "code",
   "execution_count": 6,
   "id": "17538c6f-096b-4877-b584-3f35951da577",
   "metadata": {},
   "outputs": [],
   "source": [
    "import math"
   ]
  },
  {
   "cell_type": "code",
   "execution_count": 7,
   "id": "4c99c478-9834-444e-90c4-0ed5870cfbb0",
   "metadata": {},
   "outputs": [
    {
     "data": {
      "text/plain": [
       "44"
      ]
     },
     "execution_count": 7,
     "metadata": {},
     "output_type": "execute_result"
    }
   ],
   "source": [
    "math.ceil(43.67)"
   ]
  },
  {
   "cell_type": "code",
   "execution_count": 8,
   "id": "0b2e8aef-2e9b-4bc6-96e6-b1d1ea0787ed",
   "metadata": {},
   "outputs": [
    {
     "data": {
      "text/plain": [
       "33"
      ]
     },
     "execution_count": 8,
     "metadata": {},
     "output_type": "execute_result"
    }
   ],
   "source": [
    "math.ceil(32.01)"
   ]
  },
  {
   "cell_type": "code",
   "execution_count": 9,
   "id": "6a80df75-b156-4984-870c-d84ba4baa1ee",
   "metadata": {},
   "outputs": [
    {
     "data": {
      "text/plain": [
       "-44"
      ]
     },
     "execution_count": 9,
     "metadata": {},
     "output_type": "execute_result"
    }
   ],
   "source": [
    "math.ceil(-44.34)"
   ]
  },
  {
   "cell_type": "code",
   "execution_count": 10,
   "id": "2fa65bd2-2ef5-459d-88b7-f19b013ba259",
   "metadata": {},
   "outputs": [
    {
     "data": {
      "text/plain": [
       "55"
      ]
     },
     "execution_count": 10,
     "metadata": {},
     "output_type": "execute_result"
    }
   ],
   "source": [
    "math.ceil(54.54)"
   ]
  },
  {
   "cell_type": "markdown",
   "id": "0a9db03d-3574-4af9-8520-dbfc07467af7",
   "metadata": {},
   "source": [
    "## floor"
   ]
  },
  {
   "cell_type": "code",
   "execution_count": 11,
   "id": "99ebe3f3-6275-4099-b30e-0ea1f3dea67f",
   "metadata": {},
   "outputs": [
    {
     "data": {
      "text/plain": [
       "34"
      ]
     },
     "execution_count": 11,
     "metadata": {},
     "output_type": "execute_result"
    }
   ],
   "source": [
    "math.floor(34.33)"
   ]
  },
  {
   "cell_type": "code",
   "execution_count": 12,
   "id": "846811de-0595-43d8-8106-ffe371d99953",
   "metadata": {},
   "outputs": [
    {
     "data": {
      "text/plain": [
       "23"
      ]
     },
     "execution_count": 12,
     "metadata": {},
     "output_type": "execute_result"
    }
   ],
   "source": [
    "math.floor(23.23)"
   ]
  },
  {
   "cell_type": "code",
   "execution_count": 13,
   "id": "b8bb2b6e-1c7b-4aad-9c45-b5a93a256554",
   "metadata": {},
   "outputs": [
    {
     "data": {
      "text/plain": [
       "-56"
      ]
     },
     "execution_count": 13,
     "metadata": {},
     "output_type": "execute_result"
    }
   ],
   "source": [
    "math.floor(-56)"
   ]
  },
  {
   "cell_type": "code",
   "execution_count": 15,
   "id": "20ff286c-2ec5-4a2a-a57b-2a8f55bc9e14",
   "metadata": {},
   "outputs": [
    {
     "data": {
      "text/plain": [
       "-57"
      ]
     },
     "execution_count": 15,
     "metadata": {},
     "output_type": "execute_result"
    }
   ],
   "source": [
    "math.floor(-56.34)"
   ]
  },
  {
   "cell_type": "markdown",
   "id": "621da881-76d5-43c8-8606-67842c93e891",
   "metadata": {},
   "source": [
    "## exp()\n",
    "exp(x) will return the exponential value of a number x which we pass in argument.\n",
    "\n",
    "> **Note** :- This function will not be accessible directly using exp() method. Math module will be required to access this method."
   ]
  },
  {
   "cell_type": "code",
   "execution_count": 16,
   "id": "d9f543a0-0121-483e-8d21-c1133634505b",
   "metadata": {},
   "outputs": [
    {
     "data": {
      "text/plain": [
       "22026.465794806718"
      ]
     },
     "execution_count": 16,
     "metadata": {},
     "output_type": "execute_result"
    }
   ],
   "source": [
    "math.exp(10)"
   ]
  },
  {
   "cell_type": "code",
   "execution_count": 17,
   "id": "3d77dcde-f83d-4316-a6d8-b40ffdbff8d5",
   "metadata": {},
   "outputs": [
    {
     "data": {
      "text/plain": [
       "0.0009118819655545162"
      ]
     },
     "execution_count": 17,
     "metadata": {},
     "output_type": "execute_result"
    }
   ],
   "source": [
    "math.exp(-7)"
   ]
  },
  {
   "cell_type": "markdown",
   "id": "b7bc74b1-ee71-47cf-b057-6773bc46328b",
   "metadata": {},
   "source": [
    "## fabs()"
   ]
  },
  {
   "cell_type": "code",
   "execution_count": 18,
   "id": "62c2786b-3eca-4249-a389-e16ab96073bb",
   "metadata": {},
   "outputs": [
    {
     "data": {
      "text/plain": [
       "10.23"
      ]
     },
     "execution_count": 18,
     "metadata": {},
     "output_type": "execute_result"
    }
   ],
   "source": [
    "math.fabs(10.23)"
   ]
  },
  {
   "cell_type": "code",
   "execution_count": 19,
   "id": "43908962-c4d8-469a-9e47-460b57b1135b",
   "metadata": {},
   "outputs": [
    {
     "data": {
      "text/plain": [
       "10.0"
      ]
     },
     "execution_count": 19,
     "metadata": {},
     "output_type": "execute_result"
    }
   ],
   "source": [
    "math.fabs(-10)"
   ]
  },
  {
   "cell_type": "markdown",
   "id": "b42e8b31-154e-4fc6-8c34-c00bad05b942",
   "metadata": {},
   "source": [
    "## log()"
   ]
  },
  {
   "cell_type": "code",
   "execution_count": 20,
   "id": "b63ce845-faf3-4376-b316-61d0c6c4bf77",
   "metadata": {},
   "outputs": [
    {
     "data": {
      "text/plain": [
       "2.302585092994046"
      ]
     },
     "execution_count": 20,
     "metadata": {},
     "output_type": "execute_result"
    }
   ],
   "source": [
    "math.log(10)"
   ]
  },
  {
   "cell_type": "code",
   "execution_count": 21,
   "id": "3b79028f-f8a2-42e0-a204-c2a313f88715",
   "metadata": {},
   "outputs": [
    {
     "data": {
      "text/plain": [
       "0.0"
      ]
     },
     "execution_count": 21,
     "metadata": {},
     "output_type": "execute_result"
    }
   ],
   "source": [
    "math.log(1)"
   ]
  },
  {
   "cell_type": "code",
   "execution_count": 23,
   "id": "2ff0764e-84d8-4d87-9afb-e79561c53e61",
   "metadata": {},
   "outputs": [
    {
     "data": {
      "text/plain": [
       "1.0"
      ]
     },
     "execution_count": 23,
     "metadata": {},
     "output_type": "execute_result"
    }
   ],
   "source": [
    "math.log10(10)"
   ]
  },
  {
   "cell_type": "markdown",
   "id": "ec499d2b-9b4b-46c3-9f0c-456d50f7f0ab",
   "metadata": {},
   "source": [
    "## max()"
   ]
  },
  {
   "cell_type": "code",
   "execution_count": 27,
   "id": "185325cf-dda3-425b-97c2-e3987f648508",
   "metadata": {},
   "outputs": [
    {
     "data": {
      "text/plain": [
       "4"
      ]
     },
     "execution_count": 27,
     "metadata": {},
     "output_type": "execute_result"
    }
   ],
   "source": [
    "max(1,2,3,4,4,3,2,3)"
   ]
  },
  {
   "cell_type": "markdown",
   "id": "553ed247-4aa7-4d1a-b40b-1496d6100ad9",
   "metadata": {},
   "source": [
    "## min()"
   ]
  },
  {
   "cell_type": "code",
   "execution_count": 26,
   "id": "02ec339f-ce33-4ef8-8cf1-49f77fc3f9fb",
   "metadata": {},
   "outputs": [
    {
     "data": {
      "text/plain": [
       "1"
      ]
     },
     "execution_count": 26,
     "metadata": {},
     "output_type": "execute_result"
    }
   ],
   "source": [
    "min(1,2,3,4,4,3,2,3)"
   ]
  },
  {
   "cell_type": "markdown",
   "id": "9ad3c285-e3ed-4b01-9ca1-dede1ef9e2e1",
   "metadata": {},
   "source": [
    "## pow()"
   ]
  },
  {
   "cell_type": "code",
   "execution_count": 28,
   "id": "44985b19-bd3c-4032-8797-03c109560bd6",
   "metadata": {},
   "outputs": [
    {
     "data": {
      "text/plain": [
       "4.0"
      ]
     },
     "execution_count": 28,
     "metadata": {},
     "output_type": "execute_result"
    }
   ],
   "source": [
    "math.pow(2,2)"
   ]
  },
  {
   "cell_type": "code",
   "execution_count": 31,
   "id": "55591899-138f-4afa-b85d-f6af819bb61f",
   "metadata": {},
   "outputs": [
    {
     "data": {
      "text/plain": [
       "-1.3168724279835392e-06"
      ]
     },
     "execution_count": 31,
     "metadata": {},
     "output_type": "execute_result"
    }
   ],
   "source": [
    "math.pow(-15,-5)"
   ]
  },
  {
   "cell_type": "code",
   "execution_count": 30,
   "id": "b5c9ec3f-b473-4741-b68c-4ddb0b065729",
   "metadata": {},
   "outputs": [
    {
     "data": {
      "text/plain": [
       "169.0"
      ]
     },
     "execution_count": 30,
     "metadata": {},
     "output_type": "execute_result"
    }
   ],
   "source": [
    "math.pow(13,2)"
   ]
  },
  {
   "cell_type": "markdown",
   "id": "d9639ecb-3f6d-4887-8c90-daa414c56eb8",
   "metadata": {},
   "source": [
    "## sqrt()"
   ]
  },
  {
   "cell_type": "code",
   "execution_count": 32,
   "id": "a5a05463-7e60-4e1a-9eba-0330d14420f0",
   "metadata": {},
   "outputs": [
    {
     "data": {
      "text/plain": [
       "2.0"
      ]
     },
     "execution_count": 32,
     "metadata": {},
     "output_type": "execute_result"
    }
   ],
   "source": [
    "math.sqrt(4)"
   ]
  },
  {
   "cell_type": "code",
   "execution_count": 33,
   "id": "38ba0e0f-f481-4d8b-9377-56c57c324fb0",
   "metadata": {},
   "outputs": [
    {
     "data": {
      "text/plain": [
       "5.0"
      ]
     },
     "execution_count": 33,
     "metadata": {},
     "output_type": "execute_result"
    }
   ],
   "source": [
    "math.sqrt(25)"
   ]
  },
  {
   "cell_type": "code",
   "execution_count": 34,
   "id": "0dd1194a-9ba7-4204-be9b-d37bef14d941",
   "metadata": {},
   "outputs": [
    {
     "data": {
      "text/plain": [
       "10.04987562112089"
      ]
     },
     "execution_count": 34,
     "metadata": {},
     "output_type": "execute_result"
    }
   ],
   "source": [
    "math.sqrt(101)"
   ]
  },
  {
   "cell_type": "markdown",
   "id": "c3ed3a34-f3ea-4b97-a12d-1b910d62c64c",
   "metadata": {},
   "source": [
    "## Trigonometric functions"
   ]
  },
  {
   "cell_type": "code",
   "execution_count": 35,
   "id": "c043fe0f-7e6c-4423-a8a7-a6386b18222b",
   "metadata": {},
   "outputs": [],
   "source": [
    "import math"
   ]
  },
  {
   "cell_type": "code",
   "execution_count": 36,
   "id": "a495a23a-e742-4cd9-a9c5-3aca133a817f",
   "metadata": {},
   "outputs": [
    {
     "data": {
      "text/plain": [
       "0.8939966636005579"
      ]
     },
     "execution_count": 36,
     "metadata": {},
     "output_type": "execute_result"
    }
   ],
   "source": [
    "math.sin(90)"
   ]
  },
  {
   "cell_type": "code",
   "execution_count": 41,
   "id": "e1ce4388-4cda-4d5a-917f-f093e9acb091",
   "metadata": {},
   "outputs": [
    {
     "data": {
      "text/plain": [
       "-0.8011526357338304"
      ]
     },
     "execution_count": 41,
     "metadata": {},
     "output_type": "execute_result"
    }
   ],
   "source": [
    "math.sin(180)"
   ]
  },
  {
   "cell_type": "code",
   "execution_count": 37,
   "id": "d9f3c1ac-b389-4a26-b174-13ae94e092f5",
   "metadata": {},
   "outputs": [
    {
     "data": {
      "text/plain": [
       "-0.4480736161291701"
      ]
     },
     "execution_count": 37,
     "metadata": {},
     "output_type": "execute_result"
    }
   ],
   "source": [
    "math.cos(90)"
   ]
  },
  {
   "cell_type": "code",
   "execution_count": 39,
   "id": "6ea6ea86-8b4e-4842-a394-f10abe084e0b",
   "metadata": {},
   "outputs": [
    {
     "data": {
      "text/plain": [
       "0.5253219888177297"
      ]
     },
     "execution_count": 39,
     "metadata": {},
     "output_type": "execute_result"
    }
   ],
   "source": [
    "math.cos(45)"
   ]
  },
  {
   "cell_type": "code",
   "execution_count": 38,
   "id": "9cb88536-c883-4700-a1e8-da6db4076704",
   "metadata": {},
   "outputs": [
    {
     "data": {
      "text/plain": [
       "1.6197751905438615"
      ]
     },
     "execution_count": 38,
     "metadata": {},
     "output_type": "execute_result"
    }
   ],
   "source": [
    "math.tan(45)"
   ]
  },
  {
   "cell_type": "code",
   "execution_count": 40,
   "id": "b3b4c55a-3eda-4877-afbf-20b4824c434d",
   "metadata": {},
   "outputs": [
    {
     "data": {
      "text/plain": [
       "-1.995200412208242"
      ]
     },
     "execution_count": 40,
     "metadata": {},
     "output_type": "execute_result"
    }
   ],
   "source": [
    "math.tan(90)"
   ]
  },
  {
   "cell_type": "markdown",
   "id": "cff6a140-260e-4954-b2d3-40d7944bf83e",
   "metadata": {},
   "source": [
    "## hypot()"
   ]
  },
  {
   "cell_type": "code",
   "execution_count": 42,
   "id": "afdeb519-b4ec-4586-be2f-969cf50114b4",
   "metadata": {},
   "outputs": [
    {
     "data": {
      "text/plain": [
       "3.605551275463989"
      ]
     },
     "execution_count": 42,
     "metadata": {},
     "output_type": "execute_result"
    }
   ],
   "source": [
    "math.hypot(2,3)"
   ]
  },
  {
   "cell_type": "code",
   "execution_count": null,
   "id": "cd96afc7-2fd1-4f93-aac1-e0986eb9cc88",
   "metadata": {},
   "outputs": [],
   "source": []
  },
  {
   "cell_type": "code",
   "execution_count": null,
   "id": "f679e72d-e847-41e9-a7e1-b5eef20d8a06",
   "metadata": {},
   "outputs": [],
   "source": []
  },
  {
   "cell_type": "code",
   "execution_count": null,
   "id": "34fbc9ec-d2ab-4f74-8b39-405c93eab0e7",
   "metadata": {},
   "outputs": [],
   "source": []
  },
  {
   "cell_type": "code",
   "execution_count": null,
   "id": "31d181bf-d3c1-4486-8bdc-8ca9eb0cba6b",
   "metadata": {},
   "outputs": [],
   "source": [
    "##Assignment\n",
    "math.modf()\n",
    "\n",
    "## Program to check prime numbers\n",
    "## Program to check max of 3 numbers"
   ]
  },
  {
   "cell_type": "markdown",
   "id": "72b20e76-8ff3-4426-bad0-3e26b3fb3113",
   "metadata": {},
   "source": [
    "## modf()\n",
    "math.modf() is a function from the math module that splits a number into its fractional part and integer part."
   ]
  },
  {
   "cell_type": "code",
   "execution_count": 43,
   "id": "78ddd064-6a4b-46ce-9a33-a573392e70e1",
   "metadata": {},
   "outputs": [
    {
     "data": {
      "text/plain": [
       "(0.3337659999999998, 2.0)"
      ]
     },
     "execution_count": 43,
     "metadata": {},
     "output_type": "execute_result"
    }
   ],
   "source": [
    "math.modf(2.333766)"
   ]
  },
  {
   "cell_type": "code",
   "execution_count": 44,
   "id": "3c511587-33b4-4bbe-a41e-ceda0749f606",
   "metadata": {},
   "outputs": [
    {
     "data": {
      "text/plain": [
       "(0.24435454999999706, 34.0)"
      ]
     },
     "execution_count": 44,
     "metadata": {},
     "output_type": "execute_result"
    }
   ],
   "source": [
    "math.modf(34.24435455)"
   ]
  },
  {
   "cell_type": "markdown",
   "id": "dc5a139e-7cc5-4dcc-b3fd-41b85c221ffa",
   "metadata": {},
   "source": [
    "## Checking prime no. (two ways there are)"
   ]
  },
  {
   "cell_type": "markdown",
   "id": "28c10e1e-ee2b-44fa-9425-cdb81cc7d10d",
   "metadata": {},
   "source": [
    "1."
   ]
  },
  {
   "cell_type": "code",
   "execution_count": 46,
   "id": "12fa6f92-f1d9-4732-9bbf-064c0c077856",
   "metadata": {},
   "outputs": [],
   "source": [
    "from sympy import isprime"
   ]
  },
  {
   "cell_type": "code",
   "execution_count": 47,
   "id": "e3646127-5fe0-4b36-a1ca-db03c241671b",
   "metadata": {},
   "outputs": [
    {
     "data": {
      "text/plain": [
       "False"
      ]
     },
     "execution_count": 47,
     "metadata": {},
     "output_type": "execute_result"
    }
   ],
   "source": [
    "isprime(10)"
   ]
  },
  {
   "cell_type": "code",
   "execution_count": 48,
   "id": "a8d1fd00-32f5-448a-badc-c083ad5534ae",
   "metadata": {},
   "outputs": [
    {
     "data": {
      "text/plain": [
       "True"
      ]
     },
     "execution_count": 48,
     "metadata": {},
     "output_type": "execute_result"
    }
   ],
   "source": [
    "isprime(2)"
   ]
  },
  {
   "cell_type": "code",
   "execution_count": 49,
   "id": "0fe1193e-26c5-46ae-a4ab-748b3a12e950",
   "metadata": {},
   "outputs": [
    {
     "data": {
      "text/plain": [
       "True"
      ]
     },
     "execution_count": 49,
     "metadata": {},
     "output_type": "execute_result"
    }
   ],
   "source": [
    "isprime(13)"
   ]
  },
  {
   "cell_type": "markdown",
   "id": "dc41e69a-912a-49a3-a671-c8ff8b2d9be9",
   "metadata": {},
   "source": [
    "2."
   ]
  },
  {
   "cell_type": "code",
   "execution_count": 68,
   "id": "d3491b48-c931-49d8-a334-f427615cabf2",
   "metadata": {},
   "outputs": [],
   "source": [
    "def is_prime(n):\n",
    "    if n<=1:                           # 1 and below are not prime no.\n",
    "        return False\n",
    "    for i in range(2,int(n**0.5)+1):   # checking divisors upto root(n)\n",
    "        if n%i==0 :                    # if divisible n by i then not prime\n",
    "            return False\n",
    "    return True                        # if not divisible then it is prime"
   ]
  },
  {
   "cell_type": "code",
   "execution_count": 69,
   "id": "74aebdbf-f4d3-455c-8a1a-6685345cca11",
   "metadata": {},
   "outputs": [
    {
     "data": {
      "text/plain": [
       "True"
      ]
     },
     "execution_count": 69,
     "metadata": {},
     "output_type": "execute_result"
    }
   ],
   "source": [
    "is_prime(7)"
   ]
  },
  {
   "cell_type": "code",
   "execution_count": 70,
   "id": "84dadddf-09b2-4399-a89f-aaa24e86ecc6",
   "metadata": {},
   "outputs": [
    {
     "data": {
      "text/plain": [
       "False"
      ]
     },
     "execution_count": 70,
     "metadata": {},
     "output_type": "execute_result"
    }
   ],
   "source": [
    "is_prime(10)"
   ]
  },
  {
   "cell_type": "code",
   "execution_count": 71,
   "id": "992a07f6-84de-417f-b8f7-6d94ee5243fe",
   "metadata": {},
   "outputs": [
    {
     "data": {
      "text/plain": [
       "False"
      ]
     },
     "execution_count": 71,
     "metadata": {},
     "output_type": "execute_result"
    }
   ],
   "source": [
    "is_prime(187)"
   ]
  },
  {
   "cell_type": "code",
   "execution_count": null,
   "id": "7ff419e4-ada4-43ef-8bfa-df40213d2d3c",
   "metadata": {},
   "outputs": [],
   "source": []
  },
  {
   "cell_type": "code",
   "execution_count": 51,
   "id": "216c2571-3a38-4f4a-8ade-e2e109cd2eae",
   "metadata": {},
   "outputs": [],
   "source": [
    "## Program to check max of 3 numbers."
   ]
  },
  {
   "cell_type": "code",
   "execution_count": 52,
   "id": "ea52b8be-449b-4be2-86ae-63209b8502e9",
   "metadata": {},
   "outputs": [],
   "source": [
    "def maxthree(a,b,c):\n",
    "    if a>=b and a>=c:\n",
    "        return a\n",
    "    elif b>=a and b>=c:\n",
    "        return b\n",
    "    else:\n",
    "        return c"
   ]
  },
  {
   "cell_type": "code",
   "execution_count": 53,
   "id": "4efca2db-748c-4ea3-aaa8-7b9de545c65d",
   "metadata": {},
   "outputs": [
    {
     "data": {
      "text/plain": [
       "68"
      ]
     },
     "execution_count": 53,
     "metadata": {},
     "output_type": "execute_result"
    }
   ],
   "source": [
    "maxthree(12,45,68)"
   ]
  },
  {
   "cell_type": "code",
   "execution_count": 54,
   "id": "2be829ce-6b70-439c-a6ea-a38d2270935d",
   "metadata": {},
   "outputs": [
    {
     "data": {
      "text/plain": [
       "78"
      ]
     },
     "execution_count": 54,
     "metadata": {},
     "output_type": "execute_result"
    }
   ],
   "source": [
    "maxthree(1,2,78)"
   ]
  },
  {
   "cell_type": "code",
   "execution_count": null,
   "id": "2c58353e-5606-4372-8b4e-89f48fd45421",
   "metadata": {},
   "outputs": [],
   "source": []
  },
  {
   "cell_type": "code",
   "execution_count": null,
   "id": "a92a6e19-734a-45fa-a7bd-2eef53cba32a",
   "metadata": {},
   "outputs": [],
   "source": []
  },
  {
   "cell_type": "code",
   "execution_count": null,
   "id": "fecf4cc7-a912-4450-8e10-974547d0ac16",
   "metadata": {},
   "outputs": [],
   "source": []
  },
  {
   "cell_type": "code",
   "execution_count": null,
   "id": "6d9728e2-1286-4834-9ea3-79f0217b1077",
   "metadata": {},
   "outputs": [],
   "source": []
  },
  {
   "cell_type": "code",
   "execution_count": null,
   "id": "6ca845ab-fb73-444d-b46d-b3ac47256743",
   "metadata": {},
   "outputs": [],
   "source": []
  },
  {
   "cell_type": "code",
   "execution_count": null,
   "id": "2e51797c-4735-432b-ad2a-92e9330a5f7d",
   "metadata": {},
   "outputs": [],
   "source": []
  },
  {
   "cell_type": "code",
   "execution_count": null,
   "id": "ed3fb230-3570-4c2e-b224-130c3b5b2605",
   "metadata": {},
   "outputs": [],
   "source": []
  }
 ],
 "metadata": {
  "kernelspec": {
   "display_name": "Python 3 (ipykernel)",
   "language": "python",
   "name": "python3"
  },
  "language_info": {
   "codemirror_mode": {
    "name": "ipython",
    "version": 3
   },
   "file_extension": ".py",
   "mimetype": "text/x-python",
   "name": "python",
   "nbconvert_exporter": "python",
   "pygments_lexer": "ipython3",
   "version": "3.13.5"
  }
 },
 "nbformat": 4,
 "nbformat_minor": 5
}
