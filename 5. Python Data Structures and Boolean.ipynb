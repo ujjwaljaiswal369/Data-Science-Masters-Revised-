{
 "cells": [
  {
   "cell_type": "markdown",
   "id": "41daf95f-e560-43e8-9630-f99bf3bbdbac",
   "metadata": {},
   "source": [
    "## Python Data Structures and Boolean\n",
    "\n",
    "- Boolean\n",
    "- Boolean and Logical Operators\n",
    "- Lists\n",
    "- Comparison operators\n",
    "- Dictionaries\n",
    "- Tuples\n",
    "- Sets\n",
    "- Boolean Variables\n",
    "\n",
    "### Boolean\n",
    "Boolean values are the two constant objects False and True.\n",
    "They are used to represent truth values (other values can also be considered false or true).\n",
    "In numeric contexts (for example, when used as the argument to an arithmetic operator), they behave like the integers 0 and 1, respectively.\n",
    "The built-in function bool() can be used to cast any value to a Boolean, if the value can be interpreted as a truth value\n",
    "They are written as False and True, respectively."
   ]
  },
  {
   "cell_type": "code",
   "execution_count": 1,
   "id": "06e6dbfd-f50c-4c20-8669-4f831af70ea5",
   "metadata": {},
   "outputs": [
    {
     "data": {
      "text/plain": [
       "False"
      ]
     },
     "execution_count": 1,
     "metadata": {},
     "output_type": "execute_result"
    }
   ],
   "source": [
    "False"
   ]
  },
  {
   "cell_type": "code",
   "execution_count": 2,
   "id": "aa09455a-f820-4cd6-b17e-72cc6781b088",
   "metadata": {},
   "outputs": [
    {
     "name": "stdout",
     "output_type": "stream",
     "text": [
      "True False\n"
     ]
    }
   ],
   "source": [
    "print(True,False)"
   ]
  },
  {
   "cell_type": "code",
   "execution_count": 3,
   "id": "3177b201-c127-4eb4-9b7b-b7adb5c2a8a9",
   "metadata": {},
   "outputs": [
    {
     "data": {
      "text/plain": [
       "bool"
      ]
     },
     "execution_count": 3,
     "metadata": {},
     "output_type": "execute_result"
    }
   ],
   "source": [
    "type(True)"
   ]
  },
  {
   "cell_type": "code",
   "execution_count": 23,
   "id": "2a640ad3-89e5-4e73-b5ee-d75cc2db679f",
   "metadata": {},
   "outputs": [],
   "source": [
    "my_str = 'Krishna123'"
   ]
  },
  {
   "cell_type": "code",
   "execution_count": 24,
   "id": "5d93bc6a-dd63-440f-b6f9-93aa9a8f7f4e",
   "metadata": {},
   "outputs": [
    {
     "data": {
      "text/plain": [
       "True"
      ]
     },
     "execution_count": 24,
     "metadata": {},
     "output_type": "execute_result"
    }
   ],
   "source": [
    "my_str.istitle()"
   ]
  },
  {
   "cell_type": "code",
   "execution_count": 33,
   "id": "b65e85d7-cea2-4619-8510-fd5117f3abe8",
   "metadata": {},
   "outputs": [
    {
     "name": "stdout",
     "output_type": "stream",
     "text": [
      "True\n",
      "False\n",
      "False\n",
      "True\n",
      "False\n",
      "False\n",
      "False\n",
      "True\n",
      "True\n"
     ]
    }
   ],
   "source": [
    "print(my_str.isalnum())\n",
    "print(my_str.isalpha())\n",
    "print(my_str.isdigit())\n",
    "print(my_str.istitle())\n",
    "print(my_str.isupper())\n",
    "print(my_str.islower())\n",
    "print(my_str.isspace())\n",
    "print(my_str.endswith('3'))\n",
    "print(my_str.startswith('K'))"
   ]
  },
  {
   "cell_type": "code",
   "execution_count": 34,
   "id": "70ecbfea-239f-4b8f-ab07-2fac1414ca93",
   "metadata": {},
   "outputs": [],
   "source": [
    "str_example='Hello World'\n",
    "my_str='Krishna'"
   ]
  },
  {
   "cell_type": "code",
   "execution_count": 39,
   "id": "7b745b8b-54e4-4613-9c7a-507dadc49f1f",
   "metadata": {},
   "outputs": [
    {
     "data": {
      "text/plain": [
       "True"
      ]
     },
     "execution_count": 39,
     "metadata": {},
     "output_type": "execute_result"
    }
   ],
   "source": [
    "my_str.isalpha() or str_example.isnumeric()"
   ]
  },
  {
   "cell_type": "markdown",
   "id": "262f0c03-7008-4e28-ab3c-e3f4bac3ea94",
   "metadata": {},
   "source": [
    "### Lists\n",
    "A list is a data structure in Python that is a mutable, or changeable, ordered sequence of elements. Each element or value that is inside of a list is called an item. Just as strings are defined as characters between quotes, lists are defined by having values between square brackets [ ]."
   ]
  },
  {
   "cell_type": "code",
   "execution_count": 40,
   "id": "cb884ac6-fe8f-4e18-b61d-238e8ab9c429",
   "metadata": {},
   "outputs": [
    {
     "name": "stdout",
     "output_type": "stream",
     "text": [
      "Krish\n"
     ]
    },
    {
     "data": {
      "text/plain": [
       "str"
      ]
     },
     "execution_count": 40,
     "metadata": {},
     "output_type": "execute_result"
    }
   ],
   "source": [
    "##mutable vs immutable\n",
    "str1=\"Krish\"\n",
    "print(str1)\n",
    "type(str1)"
   ]
  },
  {
   "cell_type": "code",
   "execution_count": 42,
   "id": "6df03e87-f1c8-4ef2-9323-8c8e4d44f9bc",
   "metadata": {},
   "outputs": [
    {
     "name": "stdout",
     "output_type": "stream",
     "text": [
      "Naik\n"
     ]
    }
   ],
   "source": [
    "str2=\"Naik\"\n",
    "print(str2)"
   ]
  },
  {
   "cell_type": "code",
   "execution_count": 43,
   "id": "fecbc1b1-2941-4cb8-acc7-32ac1e89b0a3",
   "metadata": {},
   "outputs": [
    {
     "data": {
      "text/plain": [
       "'Naik'"
      ]
     },
     "execution_count": 43,
     "metadata": {},
     "output_type": "execute_result"
    }
   ],
   "source": [
    "## string are immutable\n",
    "str2"
   ]
  },
  {
   "cell_type": "code",
   "execution_count": 45,
   "id": "4db1d676-8a0a-40a0-a7c8-1305742a1133",
   "metadata": {},
   "outputs": [
    {
     "ename": "TypeError",
     "evalue": "'str' object does not support item assignment",
     "output_type": "error",
     "traceback": [
      "\u001b[1;31m---------------------------------------------------------------------------\u001b[0m",
      "\u001b[1;31mTypeError\u001b[0m                                 Traceback (most recent call last)",
      "Cell \u001b[1;32mIn[45], line 1\u001b[0m\n\u001b[1;32m----> 1\u001b[0m str2[\u001b[38;5;241m2\u001b[39m]\u001b[38;5;241m=\u001b[39m\u001b[38;5;124m'\u001b[39m\u001b[38;5;124mjk\u001b[39m\u001b[38;5;124m'\u001b[39m\n",
      "\u001b[1;31mTypeError\u001b[0m: 'str' object does not support item assignment"
     ]
    }
   ],
   "source": [
    "str2[2]='jk'"
   ]
  },
  {
   "cell_type": "code",
   "execution_count": 53,
   "id": "05ddd9ed-4372-4dbc-b73d-495ad2fcd4a4",
   "metadata": {},
   "outputs": [
    {
     "data": {
      "text/plain": [
       "[1, 2, 3, 'Krishna', 'naik']"
      ]
     },
     "execution_count": 53,
     "metadata": {},
     "output_type": "execute_result"
    }
   ],
   "source": [
    "## List (mutable)\n",
    "lst = [1,2,3,'Krishna', 'naik']\n",
    "lst"
   ]
  },
  {
   "cell_type": "code",
   "execution_count": 54,
   "id": "3a38567c-5484-4569-8966-22d80e429d43",
   "metadata": {},
   "outputs": [],
   "source": [
    "lst[4] = 'Radha'"
   ]
  },
  {
   "cell_type": "code",
   "execution_count": 55,
   "id": "f1857d56-f71b-4132-a1ee-dd7a0856a273",
   "metadata": {},
   "outputs": [
    {
     "data": {
      "text/plain": [
       "[1, 2, 3, 'Krishna', 'Radha']"
      ]
     },
     "execution_count": 55,
     "metadata": {},
     "output_type": "execute_result"
    }
   ],
   "source": [
    "lst"
   ]
  },
  {
   "cell_type": "code",
   "execution_count": 60,
   "id": "38b14b72-426c-41de-805d-3284d97aa6f4",
   "metadata": {},
   "outputs": [
    {
     "name": "stdout",
     "output_type": "stream",
     "text": [
      "[1, 2, 3, 4, 5]\n"
     ]
    }
   ],
   "source": [
    "#class\n",
    "lst1=list((1,2,3,4,5))\n",
    "print(lst1)"
   ]
  },
  {
   "cell_type": "code",
   "execution_count": 61,
   "id": "fc269264-9eb2-4080-8a75-458e26ffa017",
   "metadata": {},
   "outputs": [
    {
     "data": {
      "text/plain": [
       "list"
      ]
     },
     "execution_count": 61,
     "metadata": {},
     "output_type": "execute_result"
    }
   ],
   "source": [
    "type(lst1)"
   ]
  },
  {
   "cell_type": "code",
   "execution_count": 62,
   "id": "e881ef50-55b2-4b0c-ad7d-bad3939e1555",
   "metadata": {},
   "outputs": [
    {
     "name": "stdout",
     "output_type": "stream",
     "text": [
      "1\n",
      "4\n",
      "9\n",
      "16\n",
      "25\n"
     ]
    }
   ],
   "source": [
    "for i in lst1:\n",
    "    print(i**2)"
   ]
  },
  {
   "cell_type": "code",
   "execution_count": 63,
   "id": "3866fcf6-75f1-4321-a5a4-1606e3cb859a",
   "metadata": {},
   "outputs": [
    {
     "data": {
      "text/plain": [
       "1"
      ]
     },
     "execution_count": 63,
     "metadata": {},
     "output_type": "execute_result"
    }
   ],
   "source": [
    "min(lst1)"
   ]
  },
  {
   "cell_type": "code",
   "execution_count": 64,
   "id": "d9078529-08a6-4141-999f-71884d943664",
   "metadata": {},
   "outputs": [
    {
     "data": {
      "text/plain": [
       "5"
      ]
     },
     "execution_count": 64,
     "metadata": {},
     "output_type": "execute_result"
    }
   ],
   "source": [
    "max(lst1)"
   ]
  },
  {
   "cell_type": "code",
   "execution_count": 65,
   "id": "88d40f52-45c7-4d66-aa0d-0a3656832747",
   "metadata": {},
   "outputs": [
    {
     "data": {
      "text/plain": [
       "5"
      ]
     },
     "execution_count": 65,
     "metadata": {},
     "output_type": "execute_result"
    }
   ],
   "source": [
    "len(lst1)"
   ]
  },
  {
   "cell_type": "code",
   "execution_count": 66,
   "id": "53b8212c-68f3-494b-a53a-686372d7ecb7",
   "metadata": {},
   "outputs": [],
   "source": [
    "#append\n",
    "lst1.append(12)"
   ]
  },
  {
   "cell_type": "code",
   "execution_count": 67,
   "id": "1e8bf1a5-47b2-4b5d-83a6-43738f7ddd5a",
   "metadata": {},
   "outputs": [
    {
     "data": {
      "text/plain": [
       "[1, 2, 3, 4, 5, 12]"
      ]
     },
     "execution_count": 67,
     "metadata": {},
     "output_type": "execute_result"
    }
   ],
   "source": [
    "lst1"
   ]
  },
  {
   "cell_type": "code",
   "execution_count": 68,
   "id": "b9b7bc8a-e3bf-404f-8215-1fdf1e0119c0",
   "metadata": {},
   "outputs": [],
   "source": [
    "lst1.append(['Radhe Radhe', 'Madhav Madhav'])"
   ]
  },
  {
   "cell_type": "code",
   "execution_count": 69,
   "id": "03f9ec18-a48a-4998-b5f4-eaf8f277aa2c",
   "metadata": {},
   "outputs": [
    {
     "data": {
      "text/plain": [
       "[1, 2, 3, 4, 5, 12, ['Radhe Radhe', 'Madhav Madhav']]"
      ]
     },
     "execution_count": 69,
     "metadata": {},
     "output_type": "execute_result"
    }
   ],
   "source": [
    "lst1"
   ]
  },
  {
   "cell_type": "code",
   "execution_count": 72,
   "id": "cf69a050-6654-40fb-92eb-094092d171da",
   "metadata": {},
   "outputs": [
    {
     "name": "stdout",
     "output_type": "stream",
     "text": [
      "Madhav Madhav\n"
     ]
    }
   ],
   "source": [
    "print(lst1[6][1])"
   ]
  },
  {
   "cell_type": "code",
   "execution_count": 73,
   "id": "3770c9bf-b9b6-44f5-885b-3621048c0c60",
   "metadata": {},
   "outputs": [
    {
     "data": {
      "text/plain": [
       "[4, 5, 12]"
      ]
     },
     "execution_count": 73,
     "metadata": {},
     "output_type": "execute_result"
    }
   ],
   "source": [
    "lst1[3:6]"
   ]
  },
  {
   "cell_type": "code",
   "execution_count": 74,
   "id": "c3225b0a-5ef2-4493-bbd4-f3df2eaf8fc0",
   "metadata": {},
   "outputs": [
    {
     "data": {
      "text/plain": [
       "[5, 12, ['Radhe Radhe', 'Madhav Madhav']]"
      ]
     },
     "execution_count": 74,
     "metadata": {},
     "output_type": "execute_result"
    }
   ],
   "source": [
    "lst1[4:8]"
   ]
  },
  {
   "cell_type": "code",
   "execution_count": 85,
   "id": "fdb3ea3d-01a1-4d80-b3d7-7ed49b588a28",
   "metadata": {},
   "outputs": [
    {
     "data": {
      "text/plain": [
       "[1, 2, 3, 23, 24, 24, 4, 5, 12, ['Radhe Radhe', 'Madhav Madhav']]"
      ]
     },
     "execution_count": 85,
     "metadata": {},
     "output_type": "execute_result"
    }
   ],
   "source": [
    "#insert\n",
    "lst1"
   ]
  },
  {
   "cell_type": "code",
   "execution_count": 86,
   "id": "903bd9e0-3d7a-429d-9d02-bfed2c272cb3",
   "metadata": {},
   "outputs": [],
   "source": [
    "lst1.insert(3,23)"
   ]
  },
  {
   "cell_type": "code",
   "execution_count": 87,
   "id": "a87a4b05-bcd5-42e2-b0a3-b658b42854c0",
   "metadata": {},
   "outputs": [
    {
     "data": {
      "text/plain": [
       "[1, 2, 3, 23, 23, 24, 24, 4, 5, 12, ['Radhe Radhe', 'Madhav Madhav']]"
      ]
     },
     "execution_count": 87,
     "metadata": {},
     "output_type": "execute_result"
    }
   ],
   "source": [
    "lst1"
   ]
  },
  {
   "cell_type": "code",
   "execution_count": 90,
   "id": "da258f16-127e-464d-b349-9a4068d12510",
   "metadata": {},
   "outputs": [],
   "source": [
    "lst1.insert(5,24)"
   ]
  },
  {
   "cell_type": "code",
   "execution_count": 91,
   "id": "ffcace54-31aa-4784-9296-5bd7f0350b7d",
   "metadata": {},
   "outputs": [
    {
     "data": {
      "text/plain": [
       "[1, 2, 3, 23, 23, 24, 24, 24, 24, 4, 5, 12, ['Radhe Radhe', 'Madhav Madhav']]"
      ]
     },
     "execution_count": 91,
     "metadata": {},
     "output_type": "execute_result"
    }
   ],
   "source": [
    "lst1"
   ]
  },
  {
   "cell_type": "code",
   "execution_count": 92,
   "id": "b758b561-c649-4556-b521-b07ab19bd2b6",
   "metadata": {},
   "outputs": [],
   "source": [
    "# extend "
   ]
  },
  {
   "cell_type": "code",
   "execution_count": 96,
   "id": "91fb060e-0340-4896-b38e-4d0f45107292",
   "metadata": {},
   "outputs": [],
   "source": [
    "lst1.extend(['Krishna','Radha'])"
   ]
  },
  {
   "cell_type": "code",
   "execution_count": 97,
   "id": "e9e2887e-a2c1-4185-85a3-d184c22e9e11",
   "metadata": {},
   "outputs": [
    {
     "data": {
      "text/plain": [
       "[1,\n",
       " 2,\n",
       " 3,\n",
       " 23,\n",
       " 23,\n",
       " 24,\n",
       " 24,\n",
       " 24,\n",
       " 24,\n",
       " 4,\n",
       " 5,\n",
       " 12,\n",
       " ['Radhe Radhe', 'Madhav Madhav'],\n",
       " 'Krishna',\n",
       " 'Krishna',\n",
       " 'Radha']"
      ]
     },
     "execution_count": 97,
     "metadata": {},
     "output_type": "execute_result"
    }
   ],
   "source": [
    "lst1"
   ]
  },
  {
   "cell_type": "markdown",
   "id": "63f0fa35-7237-4896-a4d5-9ff407c23850",
   "metadata": {},
   "source": [
    "### Various Operations that we can perform in List"
   ]
  },
  {
   "cell_type": "code",
   "execution_count": 101,
   "id": "b49fbce2-df24-49ef-9a49-e72a4234360b",
   "metadata": {},
   "outputs": [],
   "source": [
    "lst2 = [1,2,3,4,5,6,7,8]"
   ]
  },
  {
   "cell_type": "code",
   "execution_count": 104,
   "id": "1a4a58b5-f912-470e-8aeb-c8d79831b498",
   "metadata": {},
   "outputs": [
    {
     "data": {
      "text/plain": [
       "[1, 2, 3, 4, 5, 6, 7, 8]"
      ]
     },
     "execution_count": 104,
     "metadata": {},
     "output_type": "execute_result"
    }
   ],
   "source": [
    "lst2"
   ]
  },
  {
   "cell_type": "code",
   "execution_count": 105,
   "id": "76ddd97a-3d69-4efb-85ff-0a6b1f1a8c4f",
   "metadata": {},
   "outputs": [
    {
     "data": {
      "text/plain": [
       "36"
      ]
     },
     "execution_count": 105,
     "metadata": {},
     "output_type": "execute_result"
    }
   ],
   "source": [
    "sum(lst2)"
   ]
  },
  {
   "cell_type": "code",
   "execution_count": 106,
   "id": "cb51a2cf-9267-495f-ae8c-962960cdb245",
   "metadata": {},
   "outputs": [
    {
     "data": {
      "text/plain": [
       "[1,\n",
       " 2,\n",
       " 3,\n",
       " 4,\n",
       " 5,\n",
       " 6,\n",
       " 7,\n",
       " 8,\n",
       " 1,\n",
       " 2,\n",
       " 3,\n",
       " 4,\n",
       " 5,\n",
       " 6,\n",
       " 7,\n",
       " 8,\n",
       " 1,\n",
       " 2,\n",
       " 3,\n",
       " 4,\n",
       " 5,\n",
       " 6,\n",
       " 7,\n",
       " 8,\n",
       " 1,\n",
       " 2,\n",
       " 3,\n",
       " 4,\n",
       " 5,\n",
       " 6,\n",
       " 7,\n",
       " 8,\n",
       " 1,\n",
       " 2,\n",
       " 3,\n",
       " 4,\n",
       " 5,\n",
       " 6,\n",
       " 7,\n",
       " 8]"
      ]
     },
     "execution_count": 106,
     "metadata": {},
     "output_type": "execute_result"
    }
   ],
   "source": [
    "lst2*5"
   ]
  },
  {
   "cell_type": "code",
   "execution_count": 107,
   "id": "e76aecd8-ef8c-4ee7-adb9-9a1080e566de",
   "metadata": {},
   "outputs": [
    {
     "name": "stdout",
     "output_type": "stream",
     "text": [
      "0.5\n",
      "1.0\n",
      "1.5\n",
      "2.0\n",
      "2.5\n",
      "3.0\n",
      "3.5\n",
      "4.0\n"
     ]
    }
   ],
   "source": [
    "for i in lst2:\n",
    "    print(i/2)"
   ]
  },
  {
   "cell_type": "code",
   "execution_count": null,
   "id": "1d0944d7-1559-4318-a380-683e0124bc76",
   "metadata": {},
   "outputs": [],
   "source": [
    "### pop()"
   ]
  },
  {
   "cell_type": "code",
   "execution_count": 109,
   "id": "5f24c8dd-3b63-4e73-a0c8-d157d75d2fa1",
   "metadata": {},
   "outputs": [
    {
     "data": {
      "text/plain": [
       "[1, 2, 3, 4, 5, 6, 7, 8]"
      ]
     },
     "execution_count": 109,
     "metadata": {},
     "output_type": "execute_result"
    }
   ],
   "source": [
    "lst2"
   ]
  },
  {
   "cell_type": "code",
   "execution_count": 110,
   "id": "4638b842-de15-4938-8032-f20e5768bf36",
   "metadata": {},
   "outputs": [
    {
     "data": {
      "text/plain": [
       "8"
      ]
     },
     "execution_count": 110,
     "metadata": {},
     "output_type": "execute_result"
    }
   ],
   "source": [
    "lst2.pop(7)"
   ]
  },
  {
   "cell_type": "code",
   "execution_count": 111,
   "id": "c6102519-a2b9-43d7-9072-d20a562c202a",
   "metadata": {},
   "outputs": [
    {
     "data": {
      "text/plain": [
       "[1, 2, 3, 4, 5, 6, 7]"
      ]
     },
     "execution_count": 111,
     "metadata": {},
     "output_type": "execute_result"
    }
   ],
   "source": [
    "lst2"
   ]
  },
  {
   "cell_type": "code",
   "execution_count": 112,
   "id": "8e303b89-f15f-418e-8784-65011129bb5b",
   "metadata": {},
   "outputs": [],
   "source": [
    "## count()"
   ]
  },
  {
   "cell_type": "code",
   "execution_count": 113,
   "id": "1a1a177e-3cef-41c7-b877-5d0d89d8854e",
   "metadata": {},
   "outputs": [],
   "source": [
    "lst3=[1,1,2,3,4,5]"
   ]
  },
  {
   "cell_type": "code",
   "execution_count": 115,
   "id": "ec72c628-8ee2-4d71-9d8a-fb935d06caf6",
   "metadata": {},
   "outputs": [
    {
     "data": {
      "text/plain": [
       "2"
      ]
     },
     "execution_count": 115,
     "metadata": {},
     "output_type": "execute_result"
    }
   ],
   "source": [
    "lst3.count(1)"
   ]
  },
  {
   "cell_type": "code",
   "execution_count": 116,
   "id": "cfe1386c-6eef-4e65-b3d3-38522879fcb3",
   "metadata": {},
   "outputs": [],
   "source": [
    "## index()"
   ]
  },
  {
   "cell_type": "code",
   "execution_count": 119,
   "id": "63822644-94a9-4828-8b36-096d7f0d218a",
   "metadata": {},
   "outputs": [
    {
     "data": {
      "text/plain": [
       "[1, 1, 2, 3, 4, 5]"
      ]
     },
     "execution_count": 119,
     "metadata": {},
     "output_type": "execute_result"
    }
   ],
   "source": [
    "lst3"
   ]
  },
  {
   "cell_type": "code",
   "execution_count": 120,
   "id": "4082689c-2fac-4da0-90f4-7149d3a417cf",
   "metadata": {},
   "outputs": [
    {
     "data": {
      "text/plain": [
       "3"
      ]
     },
     "execution_count": 120,
     "metadata": {},
     "output_type": "execute_result"
    }
   ],
   "source": [
    "lst3.index(3)"
   ]
  },
  {
   "cell_type": "markdown",
   "id": "da205b02-6c05-41b5-b7d1-16515c797290",
   "metadata": {},
   "source": [
    "## SETS\n",
    "A Set is an unordered collection data type that is iterable, mutable, and has no duplicate elements. Python's set class represents the mathematical notion of a set.This is based on a data structure known as a hash table"
   ]
  },
  {
   "cell_type": "code",
   "execution_count": 4,
   "id": "f884cd73-fb71-44b6-a902-dba3c0dea7c6",
   "metadata": {},
   "outputs": [
    {
     "name": "stdout",
     "output_type": "stream",
     "text": [
      "set()\n",
      "<class 'set'>\n"
     ]
    }
   ],
   "source": [
    "set_var = set()\n",
    "print(set_var)\n",
    "print(type(set_var))"
   ]
  },
  {
   "cell_type": "code",
   "execution_count": 7,
   "id": "f51f6fd7-37f4-4fe4-aec9-ee3f676c25af",
   "metadata": {},
   "outputs": [],
   "source": [
    "set_var = {1,2,3,4,5,5}"
   ]
  },
  {
   "cell_type": "code",
   "execution_count": 8,
   "id": "7970a548-1538-492f-b009-5c307c7864a3",
   "metadata": {},
   "outputs": [
    {
     "data": {
      "text/plain": [
       "{1, 2, 3, 4, 5}"
      ]
     },
     "execution_count": 8,
     "metadata": {},
     "output_type": "execute_result"
    }
   ],
   "source": [
    "set_var"
   ]
  },
  {
   "cell_type": "code",
   "execution_count": 9,
   "id": "4b5ef269-7aa3-46eb-8543-4e1aee8d8ff3",
   "metadata": {},
   "outputs": [],
   "source": [
    "set_var = {'Avengers', 'Hitman', 'Batman'}"
   ]
  },
  {
   "cell_type": "code",
   "execution_count": 10,
   "id": "d41dce14-07e6-44bd-a5a6-2827120627e0",
   "metadata": {},
   "outputs": [
    {
     "data": {
      "text/plain": [
       "{'Avengers', 'Batman', 'Hitman'}"
      ]
     },
     "execution_count": 10,
     "metadata": {},
     "output_type": "execute_result"
    }
   ],
   "source": [
    "set_var             # order"
   ]
  },
  {
   "cell_type": "code",
   "execution_count": 11,
   "id": "ed347ed0-4621-4b23-8f13-0612f591edd6",
   "metadata": {},
   "outputs": [],
   "source": [
    "# inbuilt function"
   ]
  },
  {
   "cell_type": "code",
   "execution_count": 12,
   "id": "914e3f68-ade4-4c3e-9d42-958fc024f415",
   "metadata": {},
   "outputs": [],
   "source": [
    "set_var.add('Superman')"
   ]
  },
  {
   "cell_type": "code",
   "execution_count": 23,
   "id": "f4725910-622c-4868-80df-d1d131dc9983",
   "metadata": {},
   "outputs": [],
   "source": [
    "set1={\"Avengers\",\"IronMan\",'Hitman'}\n",
    "set2={\"Avengers\",\"IronMan\",'Hitman','Hulk2'}"
   ]
  },
  {
   "cell_type": "code",
   "execution_count": 14,
   "id": "518e3e50-11dc-42e0-9c65-120dbaf3d23c",
   "metadata": {},
   "outputs": [
    {
     "name": "stdout",
     "output_type": "stream",
     "text": [
      "{'Batman', 'Superman', 'Hitman', 'Avengers'}\n"
     ]
    }
   ],
   "source": [
    "print(set_var)"
   ]
  },
  {
   "cell_type": "code",
   "execution_count": 20,
   "id": "4f198a42-b2e3-4398-b468-fd0c31e6baae",
   "metadata": {},
   "outputs": [],
   "source": [
    "set2.intersection_update(set1)"
   ]
  },
  {
   "cell_type": "code",
   "execution_count": 21,
   "id": "34b8cee7-7830-4b13-b02d-86af2141c86c",
   "metadata": {},
   "outputs": [
    {
     "data": {
      "text/plain": [
       "{'Avengers', 'Hitman', 'IronMan'}"
      ]
     },
     "execution_count": 21,
     "metadata": {},
     "output_type": "execute_result"
    }
   ],
   "source": [
    "set2"
   ]
  },
  {
   "cell_type": "code",
   "execution_count": 24,
   "id": "ba423aa6-6de3-4f48-aa49-5713649128b7",
   "metadata": {},
   "outputs": [
    {
     "data": {
      "text/plain": [
       "{'Hulk2'}"
      ]
     },
     "execution_count": 24,
     "metadata": {},
     "output_type": "execute_result"
    }
   ],
   "source": [
    "# difference\n",
    "set2.difference(set1)"
   ]
  },
  {
   "cell_type": "code",
   "execution_count": 25,
   "id": "f9d99490-72d9-4fd0-a168-2de8f5246028",
   "metadata": {},
   "outputs": [],
   "source": [
    "set2.difference_update(set1)"
   ]
  },
  {
   "cell_type": "code",
   "execution_count": 26,
   "id": "f2806e80-3cc9-4152-906c-b5783750a392",
   "metadata": {},
   "outputs": [
    {
     "data": {
      "text/plain": [
       "{'Hulk2'}"
      ]
     },
     "execution_count": 26,
     "metadata": {},
     "output_type": "execute_result"
    }
   ],
   "source": [
    "set2"
   ]
  },
  {
   "cell_type": "markdown",
   "id": "953e3c1d-b5e4-4d0f-ae60-b541876bf36b",
   "metadata": {},
   "source": [
    "### Dictionaries\n",
    "A dictionary is a collection which is unordered, changeable and indexed. In Python dictionaries are written with curly brackets, and they have keys and values."
   ]
  },
  {
   "cell_type": "code",
   "execution_count": 27,
   "id": "1f1364d3-10a9-41ea-8617-f6e9bf343921",
   "metadata": {},
   "outputs": [],
   "source": [
    "dic = {}"
   ]
  },
  {
   "cell_type": "code",
   "execution_count": 28,
   "id": "724019ac-5c0e-4313-add9-c7745606e666",
   "metadata": {},
   "outputs": [
    {
     "data": {
      "text/plain": [
       "dict"
      ]
     },
     "execution_count": 28,
     "metadata": {},
     "output_type": "execute_result"
    }
   ],
   "source": [
    "type(dic)"
   ]
  },
  {
   "cell_type": "code",
   "execution_count": 29,
   "id": "e5f2cad3-3c53-4045-bd5a-0ccd78e6c8f9",
   "metadata": {},
   "outputs": [
    {
     "name": "stdout",
     "output_type": "stream",
     "text": [
      "<class 'dict'>\n"
     ]
    }
   ],
   "source": [
    "print(type(dic))"
   ]
  },
  {
   "cell_type": "code",
   "execution_count": 30,
   "id": "6d6048c5-828e-43d6-8ef3-9a7e2897f897",
   "metadata": {},
   "outputs": [],
   "source": [
    "## let create a dictionary"
   ]
  },
  {
   "cell_type": "code",
   "execution_count": 31,
   "id": "c402c332-4652-48a3-8f0e-8b62742e3cad",
   "metadata": {},
   "outputs": [],
   "source": [
    "my_dict = {'car1':'Audi','car2':'BMW','car3':'Mercidies Benz'}"
   ]
  },
  {
   "cell_type": "code",
   "execution_count": 32,
   "id": "607539c8-4117-486f-8b80-d22c12d92ea4",
   "metadata": {},
   "outputs": [
    {
     "data": {
      "text/plain": [
       "dict"
      ]
     },
     "execution_count": 32,
     "metadata": {},
     "output_type": "execute_result"
    }
   ],
   "source": [
    "type(my_dict)"
   ]
  },
  {
   "cell_type": "code",
   "execution_count": 36,
   "id": "560640b9-0189-4d2b-80fa-3a01ed16ae8e",
   "metadata": {},
   "outputs": [
    {
     "data": {
      "text/plain": [
       "'Audi'"
      ]
     },
     "execution_count": 36,
     "metadata": {},
     "output_type": "execute_result"
    }
   ],
   "source": [
    "##Access the item values based on keys\n",
    "my_dict['car1']"
   ]
  },
  {
   "cell_type": "code",
   "execution_count": 37,
   "id": "cc2c5828-2ed3-4732-adb0-15ab3189c4e7",
   "metadata": {},
   "outputs": [
    {
     "name": "stdout",
     "output_type": "stream",
     "text": [
      "car1\n",
      "car2\n",
      "car3\n"
     ]
    }
   ],
   "source": [
    "# We can even loop throught the dictionaries keys\n",
    "for i in my_dict:\n",
    "    print(i)"
   ]
  },
  {
   "cell_type": "code",
   "execution_count": 39,
   "id": "497424c3-0637-474a-b88e-0ed8ceb1f4a2",
   "metadata": {},
   "outputs": [
    {
     "name": "stdout",
     "output_type": "stream",
     "text": [
      "Audi\n",
      "BMW\n",
      "Mercidies Benz\n"
     ]
    }
   ],
   "source": [
    "# We can even loop throught the dictionaries values\n",
    "for i in my_dict.values():\n",
    "    print(i)"
   ]
  },
  {
   "cell_type": "code",
   "execution_count": 40,
   "id": "c1768171-e243-4ce4-8e20-7a64f9b560ae",
   "metadata": {},
   "outputs": [
    {
     "name": "stdout",
     "output_type": "stream",
     "text": [
      "('car1', 'Audi')\n",
      "('car2', 'BMW')\n",
      "('car3', 'Mercidies Benz')\n"
     ]
    }
   ],
   "source": [
    "# We can even loop throught the dictionaries values\n",
    "for i in my_dict.items():\n",
    "    print(i)"
   ]
  },
  {
   "cell_type": "code",
   "execution_count": 41,
   "id": "8163132c-9b45-4f38-a238-795d94bc181b",
   "metadata": {},
   "outputs": [],
   "source": [
    "## Adding items in Dictionaries\n",
    "my_dict['car4']='Verna'"
   ]
  },
  {
   "cell_type": "code",
   "execution_count": 42,
   "id": "d992b13f-ee47-45e5-8303-61dcfd906899",
   "metadata": {},
   "outputs": [
    {
     "data": {
      "text/plain": [
       "{'car1': 'Audi', 'car2': 'BMW', 'car3': 'Mercidies Benz', 'car4': 'Verna'}"
      ]
     },
     "execution_count": 42,
     "metadata": {},
     "output_type": "execute_result"
    }
   ],
   "source": [
    "my_dict"
   ]
  },
  {
   "cell_type": "code",
   "execution_count": 43,
   "id": "371327f4-bc9f-46f7-97d5-dcbe31b85eb2",
   "metadata": {},
   "outputs": [],
   "source": [
    "my_dict['car1'] = 'Rolls royce'"
   ]
  },
  {
   "cell_type": "code",
   "execution_count": 44,
   "id": "7aab1d0f-f9ee-4339-a070-43a747292e48",
   "metadata": {},
   "outputs": [
    {
     "data": {
      "text/plain": [
       "{'car1': 'Rolls royce',\n",
       " 'car2': 'BMW',\n",
       " 'car3': 'Mercidies Benz',\n",
       " 'car4': 'Verna'}"
      ]
     },
     "execution_count": 44,
     "metadata": {},
     "output_type": "execute_result"
    }
   ],
   "source": [
    "my_dict"
   ]
  },
  {
   "cell_type": "markdown",
   "id": "ec920ea6-f0c6-419c-a48a-c1dfb9b144b7",
   "metadata": {},
   "source": [
    "### Nested Dictionary"
   ]
  },
  {
   "cell_type": "code",
   "execution_count": 45,
   "id": "74818aaf-13be-4d8a-9796-3dbb89549653",
   "metadata": {},
   "outputs": [],
   "source": [
    "car1_model={'Mercedes':1960}\n",
    "car2_model={'Audi':1970}\n",
    "car3_model={'Ambassador':1980}"
   ]
  },
  {
   "cell_type": "code",
   "execution_count": 46,
   "id": "983152f6-d04b-49c1-b0bc-e8c3b9b611d0",
   "metadata": {},
   "outputs": [],
   "source": [
    "car_type = {'car1': car1_model,'car2': car2_model, 'car3': car3_model}"
   ]
  },
  {
   "cell_type": "code",
   "execution_count": 47,
   "id": "699a4ed1-7b07-47e6-8d54-2dfbbe21a985",
   "metadata": {},
   "outputs": [
    {
     "data": {
      "text/plain": [
       "{'car1': {'Mercedes': 1960},\n",
       " 'car2': {'Audi': 1970},\n",
       " 'car3': {'Ambassador': 1980}}"
      ]
     },
     "execution_count": 47,
     "metadata": {},
     "output_type": "execute_result"
    }
   ],
   "source": [
    "car_type"
   ]
  },
  {
   "cell_type": "code",
   "execution_count": 50,
   "id": "531efb3c-735b-4788-8272-85cdc6b29c6a",
   "metadata": {},
   "outputs": [
    {
     "name": "stdout",
     "output_type": "stream",
     "text": [
      "{'Mercedes': 1960}\n"
     ]
    }
   ],
   "source": [
    "print(car_type['car1'])"
   ]
  },
  {
   "cell_type": "code",
   "execution_count": 51,
   "id": "e987dc83-d1d4-485f-a603-2913cc285a93",
   "metadata": {},
   "outputs": [
    {
     "name": "stdout",
     "output_type": "stream",
     "text": [
      "1960\n"
     ]
    }
   ],
   "source": [
    "print(car_type['car1']['Mercedes'])"
   ]
  },
  {
   "cell_type": "markdown",
   "id": "c76d1200-ce70-4aca-b5fb-002c6765ae18",
   "metadata": {},
   "source": [
    "## Tuple\n",
    "-  A tuple in Python is an ordered collection of items that is immutable (cannot be changed after creation)."
   ]
  },
  {
   "cell_type": "code",
   "execution_count": 52,
   "id": "0eaea80c-8221-4e11-bf68-1a76addad4bd",
   "metadata": {},
   "outputs": [],
   "source": [
    "## create an empty Tuples"
   ]
  },
  {
   "cell_type": "code",
   "execution_count": 54,
   "id": "26384ae3-54a7-433a-9f16-8900a3fe536f",
   "metadata": {},
   "outputs": [],
   "source": [
    "my_tuple = tuple()"
   ]
  },
  {
   "cell_type": "code",
   "execution_count": 56,
   "id": "aa0f9510-f189-4aa1-896d-c001885ef13d",
   "metadata": {},
   "outputs": [
    {
     "data": {
      "text/plain": [
       "()"
      ]
     },
     "execution_count": 56,
     "metadata": {},
     "output_type": "execute_result"
    }
   ],
   "source": [
    "my_tuple"
   ]
  },
  {
   "cell_type": "code",
   "execution_count": 57,
   "id": "39e8dddb-aa08-497a-a395-3f2863fe1b9e",
   "metadata": {},
   "outputs": [
    {
     "data": {
      "text/plain": [
       "tuple"
      ]
     },
     "execution_count": 57,
     "metadata": {},
     "output_type": "execute_result"
    }
   ],
   "source": [
    "type(my_tuple)"
   ]
  },
  {
   "cell_type": "code",
   "execution_count": 58,
   "id": "9318aeae-53be-4184-b143-92527275bb24",
   "metadata": {},
   "outputs": [
    {
     "name": "stdout",
     "output_type": "stream",
     "text": [
      "<class 'tuple'>\n"
     ]
    }
   ],
   "source": [
    "tuple = ()\n",
    "print(type(tuple))"
   ]
  },
  {
   "cell_type": "code",
   "execution_count": 59,
   "id": "934c313a-923a-4adb-b10e-cc6f3e933356",
   "metadata": {},
   "outputs": [],
   "source": [
    "my_tuple = ('Krishna', 'Radha', 'Charandas')"
   ]
  },
  {
   "cell_type": "code",
   "execution_count": 60,
   "id": "c731acab-de0a-424c-af6e-76f747250a2a",
   "metadata": {},
   "outputs": [
    {
     "name": "stdout",
     "output_type": "stream",
     "text": [
      "('Krishna', 'Radha', 'Charandas')\n"
     ]
    }
   ],
   "source": [
    "print(my_tuple)"
   ]
  },
  {
   "cell_type": "code",
   "execution_count": 62,
   "id": "43d87fdd-0c8f-4304-a262-ffa5b5de8a13",
   "metadata": {},
   "outputs": [
    {
     "name": "stdout",
     "output_type": "stream",
     "text": [
      "<class 'tuple'>\n"
     ]
    }
   ],
   "source": [
    "print(type(my_tuple))"
   ]
  },
  {
   "cell_type": "code",
   "execution_count": 65,
   "id": "434a1a23-3ac5-4f0d-a5ca-de73bddf17df",
   "metadata": {},
   "outputs": [
    {
     "data": {
      "text/plain": [
       "1"
      ]
     },
     "execution_count": 65,
     "metadata": {},
     "output_type": "execute_result"
    }
   ],
   "source": [
    "my_tuple.count('Krishna')"
   ]
  },
  {
   "cell_type": "code",
   "execution_count": 66,
   "id": "2a9f3824-92f9-4fd5-bf3c-2fa81ba9b895",
   "metadata": {},
   "outputs": [
    {
     "data": {
      "text/plain": [
       "1"
      ]
     },
     "execution_count": 66,
     "metadata": {},
     "output_type": "execute_result"
    }
   ],
   "source": [
    "my_tuple.index('Radha')"
   ]
  },
  {
   "cell_type": "code",
   "execution_count": null,
   "id": "0a84e99b-8a89-4c80-85f2-9649658cc014",
   "metadata": {},
   "outputs": [],
   "source": []
  },
  {
   "cell_type": "code",
   "execution_count": null,
   "id": "d747dbb7-eeb5-4ffa-b3e7-64e45bd3aec8",
   "metadata": {},
   "outputs": [],
   "source": []
  }
 ],
 "metadata": {
  "kernelspec": {
   "display_name": "Python 3 (ipykernel)",
   "language": "python",
   "name": "python3"
  },
  "language_info": {
   "codemirror_mode": {
    "name": "ipython",
    "version": 3
   },
   "file_extension": ".py",
   "mimetype": "text/x-python",
   "name": "python",
   "nbconvert_exporter": "python",
   "pygments_lexer": "ipython3",
   "version": "3.13.5"
  }
 },
 "nbformat": 4,
 "nbformat_minor": 5
}
