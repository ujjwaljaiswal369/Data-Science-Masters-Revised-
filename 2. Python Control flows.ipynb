{
 "cells": [
  {
   "cell_type": "markdown",
   "id": "ce2b3819-9e60-4a0c-80cf-96eb6160ca33",
   "metadata": {},
   "source": [
    "# Python Control flows"
   ]
  },
  {
   "cell_type": "code",
   "execution_count": 1,
   "id": "f48c4f58-dadb-46d3-ae46-cb4a03e1a997",
   "metadata": {},
   "outputs": [
    {
     "name": "stdin",
     "output_type": "stream",
     "text": [
      "Enter the no. 12\n"
     ]
    },
    {
     "name": "stdout",
     "output_type": "stream",
     "text": [
      "The number is even\n"
     ]
    }
   ],
   "source": [
    "# if statement\n",
    "val = input('Enter the no.')\n",
    "val_float=float(val)\n",
    "\n",
    "if (val_float%2==0) :\n",
    "    print('The number is even')"
   ]
  },
  {
   "cell_type": "code",
   "execution_count": 2,
   "id": "eb2be167-4867-4502-951c-a059bcc06f3f",
   "metadata": {},
   "outputs": [
    {
     "data": {
      "text/plain": [
       "False"
      ]
     },
     "execution_count": 2,
     "metadata": {},
     "output_type": "execute_result"
    }
   ],
   "source": [
    "#for odd\n",
    "10%2!=0"
   ]
  },
  {
   "cell_type": "code",
   "execution_count": 3,
   "id": "d6d037bb-6e8d-40b4-843c-cb64acad59a8",
   "metadata": {},
   "outputs": [
    {
     "name": "stdin",
     "output_type": "stream",
     "text": [
      "Enter the no. 23\n"
     ]
    },
    {
     "name": "stdout",
     "output_type": "stream",
     "text": [
      "The number is odd\n"
     ]
    }
   ],
   "source": [
    "# if else statement\n",
    "val = input('Enter the no.')\n",
    "val_float=float(val)\n",
    "\n",
    "if (val_float%2==0) :\n",
    "    print('The number is even')\n",
    "else :\n",
    "    print('The number is odd')"
   ]
  },
  {
   "cell_type": "code",
   "execution_count": 4,
   "id": "caafe278-4c2e-4afa-a7a4-05fb0b1e2e4c",
   "metadata": {},
   "outputs": [
    {
     "name": "stdin",
     "output_type": "stream",
     "text": [
      "Enter the age 22\n"
     ]
    },
    {
     "name": "stdout",
     "output_type": "stream",
     "text": [
      "Mid Age\n"
     ]
    }
   ],
   "source": [
    "# age form\n",
    "## nested if else condition\n",
    "\n",
    "age = int(input('Enter the age'))\n",
    "\n",
    "if(age<18):\n",
    "    print('Minor Age')\n",
    "elif(age>=18 and age<=45):\n",
    "    print('Mid Age')\n",
    "elif(age>45 and age<=50):\n",
    "    print('Senior mid age')\n",
    "else :\n",
    "    print('Senior Citizen')"
   ]
  },
  {
   "cell_type": "code",
   "execution_count": 6,
   "id": "68302126-0875-4807-b83e-2fcc925dafa7",
   "metadata": {},
   "outputs": [
    {
     "name": "stdin",
     "output_type": "stream",
     "text": [
      "Enter the age 17\n"
     ]
    },
    {
     "name": "stdout",
     "output_type": "stream",
     "text": [
      "Minor Age\n",
      "You are in college\n"
     ]
    }
   ],
   "source": [
    "# nested ifelse condition\n",
    "age = int(input('Enter the age'))\n",
    "\n",
    "if(age<18):\n",
    "    print('Minor Age')\n",
    "    if(age<15):\n",
    "        print('You are in school')\n",
    "    else:\n",
    "        print('You are in college')\n",
    "elif(age>=18 and age<=45):\n",
    "    print('Mid Age')\n",
    "elif(age>45 and age<=50):\n",
    "    print('Senior mid age')\n",
    "else :\n",
    "    print('Senior Citizen')"
   ]
  },
  {
   "cell_type": "markdown",
   "id": "578ef618-9119-4e8d-b2a2-88c3673eff2d",
   "metadata": {},
   "source": [
    "## Loop statements, for loop and while loop"
   ]
  },
  {
   "cell_type": "code",
   "execution_count": 7,
   "id": "11f03a3f-5ee6-4d69-a9cf-68552ccbd5f6",
   "metadata": {},
   "outputs": [
    {
     "name": "stdout",
     "output_type": "stream",
     "text": [
      "1\n",
      "4\n",
      "9\n",
      "16\n",
      "25\n",
      "36\n",
      "49\n"
     ]
    }
   ],
   "source": [
    "lst = [1,2,3,4,5,6,7]\n",
    "\n",
    "for i in lst:\n",
    "    print(i**2)"
   ]
  },
  {
   "cell_type": "code",
   "execution_count": 1,
   "id": "2df198f6-3d15-486f-bbc7-e5be48e128b8",
   "metadata": {},
   "outputs": [
    {
     "name": "stdout",
     "output_type": "stream",
     "text": [
      "28\n"
     ]
    }
   ],
   "source": [
    "lst = [1,2,3,4,5,6,7] \n",
    "sum1=0\n",
    "\n",
    "for i in lst:\n",
    "    sum1=sum1+i\n",
    "print(sum1)"
   ]
  },
  {
   "cell_type": "code",
   "execution_count": 2,
   "id": "ab767393-de1c-4f75-8bed-04c9ea35f1f7",
   "metadata": {},
   "outputs": [
    {
     "name": "stdout",
     "output_type": "stream",
     "text": [
      "Even sum is 12\n",
      "Odd sum is 16\n"
     ]
    }
   ],
   "source": [
    "## find the sum of even and odd number\n",
    "\n",
    "lst = [1,2,3,4,5,6,7]\n",
    "even_sum=0\n",
    "odd_sum=0\n",
    "\n",
    "for i in lst:\n",
    "    if(i%2==0):\n",
    "        even_sum=even_sum+i\n",
    "    else:\n",
    "        odd_sum=odd_sum+i\n",
    "        \n",
    "print('Even sum is {}'.format(even_sum))\n",
    "print('Odd sum is {}'.format(odd_sum))"
   ]
  },
  {
   "cell_type": "code",
   "execution_count": 3,
   "id": "7bab59c5-286a-46c3-952c-0afdf9b44875",
   "metadata": {},
   "outputs": [
    {
     "name": "stdout",
     "output_type": "stream",
     "text": [
      "Even sum is 30\n",
      "Odd sum is 25\n"
     ]
    }
   ],
   "source": [
    "## while loop\n",
    "i=0\n",
    "even_sum=0\n",
    "odd_sum=0\n",
    "\n",
    "while(i<=10):\n",
    "    if(i%2==0):\n",
    "        even_sum=even_sum+i\n",
    "    else:\n",
    "        odd_sum=odd_sum+i\n",
    "\n",
    "    i=i+1\n",
    "        \n",
    "print('Even sum is {}'.format(even_sum))\n",
    "print('Odd sum is {}'.format(odd_sum))"
   ]
  },
  {
   "cell_type": "code",
   "execution_count": 5,
   "id": "9ec15753-c364-4acb-a741-9d2520405eee",
   "metadata": {},
   "outputs": [
    {
     "name": "stdout",
     "output_type": "stream",
     "text": [
      "1\n",
      "2\n",
      "3\n"
     ]
    }
   ],
   "source": [
    "## break statement\n",
    "x=1\n",
    "while(x<=10):\n",
    "    if (x==4):\n",
    "        break\n",
    "    print(x)\n",
    "    x=x+1"
   ]
  },
  {
   "cell_type": "code",
   "execution_count": 7,
   "id": "a746e576-b172-4f00-84e3-43da792f245b",
   "metadata": {},
   "outputs": [
    {
     "name": "stdout",
     "output_type": "stream",
     "text": [
      "1\n",
      "2\n",
      "3\n",
      "5\n",
      "6\n",
      "7\n"
     ]
    }
   ],
   "source": [
    "## continue\n",
    "x=0\n",
    "while x<7:\n",
    "    x=x+1\n",
    "    if x==4:\n",
    "        continue\n",
    "    print(x)"
   ]
  },
  {
   "cell_type": "code",
   "execution_count": null,
   "id": "3822cfcb-925a-450b-99e9-31c5e2dba869",
   "metadata": {},
   "outputs": [],
   "source": []
  }
 ],
 "metadata": {
  "kernelspec": {
   "display_name": "Python 3 (ipykernel)",
   "language": "python",
   "name": "python3"
  },
  "language_info": {
   "codemirror_mode": {
    "name": "ipython",
    "version": 3
   },
   "file_extension": ".py",
   "mimetype": "text/x-python",
   "name": "python",
   "nbconvert_exporter": "python",
   "pygments_lexer": "ipython3",
   "version": "3.13.5"
  }
 },
 "nbformat": 4,
 "nbformat_minor": 5
}
